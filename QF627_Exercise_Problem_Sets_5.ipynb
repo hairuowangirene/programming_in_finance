{
 "cells": [
  {
   "cell_type": "markdown",
   "metadata": {},
   "source": [
    "# QF 627 Programming and Computational Finance\n",
    "## Problem-Sets for Exercise `5` | `Questions`"
   ]
  },
  {
   "cell_type": "markdown",
   "metadata": {},
   "source": [
    "> Hi, Team. 👋\n",
    "\n",
    "> Here we go again. The current notebook contains 10 questions that help you review our course content.\n",
    "\n",
    "> Try to answer questions within a 120-minute time limit (and you may refer to lecture notes and review scripts while you are answering). This kind of timed task will improve your performance and prepare you well for the assessment down the line. Once you complete this, submit your script via eLearn.\n",
    "\n",
    "> Enjoy!\"🤞"
   ]
  },
  {
   "cell_type": "markdown",
   "metadata": {},
   "source": [
    "### For standardization of your answers…\n",
    "\n",
    "> Please execute the lines of code below before you start work on your answers."
   ]
  },
  {
   "cell_type": "code",
   "execution_count": 1,
   "metadata": {},
   "outputs": [],
   "source": [
    "import numpy as np\n",
    "import pandas as pd\n",
    "\n",
    "import matplotlib.pyplot as plt\n",
    "import matplotlib as mpl\n",
    "\n",
    "from pandas_datareader import data as pdr\n",
    "\n",
    "import datetime as dt\n",
    "import yfinance as yf"
   ]
  },
  {
   "cell_type": "markdown",
   "metadata": {},
   "source": [
    "> Let's set some print option."
   ]
  },
  {
   "cell_type": "code",
   "execution_count": 2,
   "metadata": {},
   "outputs": [],
   "source": [
    "np.set_printoptions(precision = 3)\n",
    "\n",
    "plt.style.use(\"ggplot\")\n",
    "\n",
    "mpl.rcParams[\"axes.grid\"] = True\n",
    "mpl.rcParams[\"grid.color\"] = \"grey\"\n",
    "mpl.rcParams[\"grid.alpha\"] = 0.25\n",
    "\n",
    "mpl.rcParams[\"axes.facecolor\"] = \"white\"\n",
    "\n",
    "mpl.rcParams[\"legend.fontsize\"] = 14"
   ]
  },
  {
   "cell_type": "markdown",
   "metadata": {},
   "source": [
    "## 👇 Questions 1 to 4 ask you to build, execute, and backtest a `mean-reversion` strategy."
   ]
  },
  {
   "cell_type": "markdown",
   "metadata": {},
   "source": [
    "### <font color = blue> 👉 Question 1</font>. Let’s take a look at Google (`GOOGL`) as our security of interest, over the period of August 2011 to July 2020.\n",
    "\n",
    "### Use a simple moving average of 42 days.\n",
    "\n",
    "### Set a threshold value at two standard deviations of the current price, to deviate from the simple moving average to signal a positioning.\n",
    "\n",
    "### <font color = green> NOTE: Your moving threshold value here is NOT an absolute value. You should create two additional columns containing your two standard deviations relative to your base line (a simple moving average of 42 days). </font>\n",
    "\n",
    "### Visualize your buy positions by setting `fmt` (format string) at `g^`, and your sell positions by setting fmt at `rv`."
   ]
  },
  {
   "cell_type": "markdown",
   "metadata": {},
   "source": [
    "### Below are the lines of code that lead to an answer:"
   ]
  },
  {
   "cell_type": "code",
   "execution_count": 3,
   "metadata": {},
   "outputs": [
    {
     "data": {
      "text/html": [
       "<div>\n",
       "<style scoped>\n",
       "    .dataframe tbody tr th:only-of-type {\n",
       "        vertical-align: middle;\n",
       "    }\n",
       "\n",
       "    .dataframe tbody tr th {\n",
       "        vertical-align: top;\n",
       "    }\n",
       "\n",
       "    .dataframe thead th {\n",
       "        text-align: right;\n",
       "    }\n",
       "</style>\n",
       "<table border=\"1\" class=\"dataframe\">\n",
       "  <thead>\n",
       "    <tr style=\"text-align: right;\">\n",
       "      <th></th>\n",
       "      <th>High</th>\n",
       "      <th>Low</th>\n",
       "      <th>Open</th>\n",
       "      <th>Close</th>\n",
       "      <th>Volume</th>\n",
       "      <th>Adj Close</th>\n",
       "    </tr>\n",
       "    <tr>\n",
       "      <th>Date</th>\n",
       "      <th></th>\n",
       "      <th></th>\n",
       "      <th></th>\n",
       "      <th></th>\n",
       "      <th></th>\n",
       "      <th></th>\n",
       "    </tr>\n",
       "  </thead>\n",
       "  <tbody>\n",
       "    <tr>\n",
       "      <th>2011-08-01</th>\n",
       "      <td>15.402903</td>\n",
       "      <td>14.994494</td>\n",
       "      <td>15.295796</td>\n",
       "      <td>15.184434</td>\n",
       "      <td>158485356.0</td>\n",
       "      <td>15.184434</td>\n",
       "    </tr>\n",
       "    <tr>\n",
       "      <th>2011-08-02</th>\n",
       "      <td>15.257007</td>\n",
       "      <td>14.804054</td>\n",
       "      <td>15.165165</td>\n",
       "      <td>14.824825</td>\n",
       "      <td>127895976.0</td>\n",
       "      <td>14.824825</td>\n",
       "    </tr>\n",
       "    <tr>\n",
       "      <th>2011-08-03</th>\n",
       "      <td>15.090090</td>\n",
       "      <td>14.605355</td>\n",
       "      <td>14.871622</td>\n",
       "      <td>15.044294</td>\n",
       "      <td>152874972.0</td>\n",
       "      <td>15.044294</td>\n",
       "    </tr>\n",
       "    <tr>\n",
       "      <th>2011-08-04</th>\n",
       "      <td>14.986236</td>\n",
       "      <td>14.451201</td>\n",
       "      <td>14.877377</td>\n",
       "      <td>14.452452</td>\n",
       "      <td>196387416.0</td>\n",
       "      <td>14.452452</td>\n",
       "    </tr>\n",
       "    <tr>\n",
       "      <th>2011-08-05</th>\n",
       "      <td>14.764765</td>\n",
       "      <td>14.064064</td>\n",
       "      <td>14.578078</td>\n",
       "      <td>14.490490</td>\n",
       "      <td>236926836.0</td>\n",
       "      <td>14.490490</td>\n",
       "    </tr>\n",
       "    <tr>\n",
       "      <th>...</th>\n",
       "      <td>...</td>\n",
       "      <td>...</td>\n",
       "      <td>...</td>\n",
       "      <td>...</td>\n",
       "      <td>...</td>\n",
       "      <td>...</td>\n",
       "    </tr>\n",
       "    <tr>\n",
       "      <th>2020-07-27</th>\n",
       "      <td>76.877998</td>\n",
       "      <td>75.616501</td>\n",
       "      <td>75.663002</td>\n",
       "      <td>76.471497</td>\n",
       "      <td>27124000.0</td>\n",
       "      <td>76.471497</td>\n",
       "    </tr>\n",
       "    <tr>\n",
       "      <th>2020-07-28</th>\n",
       "      <td>76.300499</td>\n",
       "      <td>75.026001</td>\n",
       "      <td>76.250000</td>\n",
       "      <td>75.182503</td>\n",
       "      <td>30910000.0</td>\n",
       "      <td>75.182503</td>\n",
       "    </tr>\n",
       "    <tr>\n",
       "      <th>2020-07-29</th>\n",
       "      <td>76.666496</td>\n",
       "      <td>75.150497</td>\n",
       "      <td>75.250000</td>\n",
       "      <td>76.175499</td>\n",
       "      <td>22676000.0</td>\n",
       "      <td>76.175499</td>\n",
       "    </tr>\n",
       "    <tr>\n",
       "      <th>2020-07-30</th>\n",
       "      <td>77.044502</td>\n",
       "      <td>74.758499</td>\n",
       "      <td>74.898499</td>\n",
       "      <td>76.918503</td>\n",
       "      <td>36042000.0</td>\n",
       "      <td>76.918503</td>\n",
       "    </tr>\n",
       "    <tr>\n",
       "      <th>2020-07-31</th>\n",
       "      <td>75.250999</td>\n",
       "      <td>72.699997</td>\n",
       "      <td>74.852501</td>\n",
       "      <td>74.397499</td>\n",
       "      <td>91468000.0</td>\n",
       "      <td>74.397499</td>\n",
       "    </tr>\n",
       "  </tbody>\n",
       "</table>\n",
       "<p>2266 rows × 6 columns</p>\n",
       "</div>"
      ],
      "text/plain": [
       "                 High        Low       Open      Close       Volume  Adj Close\n",
       "Date                                                                          \n",
       "2011-08-01  15.402903  14.994494  15.295796  15.184434  158485356.0  15.184434\n",
       "2011-08-02  15.257007  14.804054  15.165165  14.824825  127895976.0  14.824825\n",
       "2011-08-03  15.090090  14.605355  14.871622  15.044294  152874972.0  15.044294\n",
       "2011-08-04  14.986236  14.451201  14.877377  14.452452  196387416.0  14.452452\n",
       "2011-08-05  14.764765  14.064064  14.578078  14.490490  236926836.0  14.490490\n",
       "...               ...        ...        ...        ...          ...        ...\n",
       "2020-07-27  76.877998  75.616501  75.663002  76.471497   27124000.0  76.471497\n",
       "2020-07-28  76.300499  75.026001  76.250000  75.182503   30910000.0  75.182503\n",
       "2020-07-29  76.666496  75.150497  75.250000  76.175499   22676000.0  76.175499\n",
       "2020-07-30  77.044502  74.758499  74.898499  76.918503   36042000.0  76.918503\n",
       "2020-07-31  75.250999  72.699997  74.852501  74.397499   91468000.0  74.397499\n",
       "\n",
       "[2266 rows x 6 columns]"
      ]
     },
     "execution_count": 3,
     "metadata": {},
     "output_type": "execute_result"
    }
   ],
   "source": [
    "googl_df = pdr.get_data_yahoo(\"GOOGL\", \n",
    "                              start = dt.datetime(2011, 8, 1), \n",
    "                              end = dt.datetime(2020, 7, 31))\n",
    "googl_df"
   ]
  },
  {
   "cell_type": "code",
   "execution_count": 4,
   "metadata": {},
   "outputs": [],
   "source": [
    "googl_df['RETURN'] = np.log(googl_df['Adj Close'] / googl_df[\"Adj Close\"].shift(1))\n",
    "googl_df[\"SMA_42\"] = googl_df[\"Adj Close\"].rolling(window = 42).mean()"
   ]
  },
  {
   "cell_type": "code",
   "execution_count": 5,
   "metadata": {},
   "outputs": [],
   "source": [
    "googl_df[\"Upper_Threhold\"] = 2 * googl_df['Adj Close'].rolling(window = 42).std()\n",
    "googl_df['Lower_Threhold'] = -2 * googl_df['Adj Close'].rolling(window = 42).std()"
   ]
  },
  {
   "cell_type": "code",
   "execution_count": 6,
   "metadata": {},
   "outputs": [],
   "source": [
    "googl_df[\"DIST\"] = googl_df[\"Adj Close\"] - googl_df[\"SMA_42\"]"
   ]
  },
  {
   "cell_type": "code",
   "execution_count": 7,
   "metadata": {},
   "outputs": [],
   "source": [
    "googl_df['Position'] = np.where(googl_df['DIST'] > googl_df['Upper_Threhold'], -1, np.nan)\n",
    "googl_df[\"Position\"] = np.where(googl_df['DIST'] < googl_df['Lower_Threhold'], 1, googl_df['Position'])"
   ]
  },
  {
   "cell_type": "code",
   "execution_count": 8,
   "metadata": {},
   "outputs": [
    {
     "data": {
      "text/html": [
       "<div>\n",
       "<style scoped>\n",
       "    .dataframe tbody tr th:only-of-type {\n",
       "        vertical-align: middle;\n",
       "    }\n",
       "\n",
       "    .dataframe tbody tr th {\n",
       "        vertical-align: top;\n",
       "    }\n",
       "\n",
       "    .dataframe thead th {\n",
       "        text-align: right;\n",
       "    }\n",
       "</style>\n",
       "<table border=\"1\" class=\"dataframe\">\n",
       "  <thead>\n",
       "    <tr style=\"text-align: right;\">\n",
       "      <th></th>\n",
       "      <th>High</th>\n",
       "      <th>Low</th>\n",
       "      <th>Open</th>\n",
       "      <th>Close</th>\n",
       "      <th>Volume</th>\n",
       "      <th>Adj Close</th>\n",
       "      <th>RETURN</th>\n",
       "      <th>SMA_42</th>\n",
       "      <th>Upper_Threhold</th>\n",
       "      <th>Lower_Threhold</th>\n",
       "      <th>DIST</th>\n",
       "      <th>Position</th>\n",
       "    </tr>\n",
       "    <tr>\n",
       "      <th>Date</th>\n",
       "      <th></th>\n",
       "      <th></th>\n",
       "      <th></th>\n",
       "      <th></th>\n",
       "      <th></th>\n",
       "      <th></th>\n",
       "      <th></th>\n",
       "      <th></th>\n",
       "      <th></th>\n",
       "      <th></th>\n",
       "      <th></th>\n",
       "      <th></th>\n",
       "    </tr>\n",
       "  </thead>\n",
       "  <tbody>\n",
       "    <tr>\n",
       "      <th>2011-08-01</th>\n",
       "      <td>15.402903</td>\n",
       "      <td>14.994494</td>\n",
       "      <td>15.295796</td>\n",
       "      <td>15.184434</td>\n",
       "      <td>158485356.0</td>\n",
       "      <td>15.184434</td>\n",
       "      <td>NaN</td>\n",
       "      <td>NaN</td>\n",
       "      <td>NaN</td>\n",
       "      <td>NaN</td>\n",
       "      <td>NaN</td>\n",
       "      <td>NaN</td>\n",
       "    </tr>\n",
       "    <tr>\n",
       "      <th>2011-08-02</th>\n",
       "      <td>15.257007</td>\n",
       "      <td>14.804054</td>\n",
       "      <td>15.165165</td>\n",
       "      <td>14.824825</td>\n",
       "      <td>127895976.0</td>\n",
       "      <td>14.824825</td>\n",
       "      <td>-0.023968</td>\n",
       "      <td>NaN</td>\n",
       "      <td>NaN</td>\n",
       "      <td>NaN</td>\n",
       "      <td>NaN</td>\n",
       "      <td>NaN</td>\n",
       "    </tr>\n",
       "    <tr>\n",
       "      <th>2011-08-03</th>\n",
       "      <td>15.090090</td>\n",
       "      <td>14.605355</td>\n",
       "      <td>14.871622</td>\n",
       "      <td>15.044294</td>\n",
       "      <td>152874972.0</td>\n",
       "      <td>15.044294</td>\n",
       "      <td>0.014696</td>\n",
       "      <td>NaN</td>\n",
       "      <td>NaN</td>\n",
       "      <td>NaN</td>\n",
       "      <td>NaN</td>\n",
       "      <td>NaN</td>\n",
       "    </tr>\n",
       "    <tr>\n",
       "      <th>2011-08-04</th>\n",
       "      <td>14.986236</td>\n",
       "      <td>14.451201</td>\n",
       "      <td>14.877377</td>\n",
       "      <td>14.452452</td>\n",
       "      <td>196387416.0</td>\n",
       "      <td>14.452452</td>\n",
       "      <td>-0.040135</td>\n",
       "      <td>NaN</td>\n",
       "      <td>NaN</td>\n",
       "      <td>NaN</td>\n",
       "      <td>NaN</td>\n",
       "      <td>NaN</td>\n",
       "    </tr>\n",
       "    <tr>\n",
       "      <th>2011-08-05</th>\n",
       "      <td>14.764765</td>\n",
       "      <td>14.064064</td>\n",
       "      <td>14.578078</td>\n",
       "      <td>14.490490</td>\n",
       "      <td>236926836.0</td>\n",
       "      <td>14.490490</td>\n",
       "      <td>0.002629</td>\n",
       "      <td>NaN</td>\n",
       "      <td>NaN</td>\n",
       "      <td>NaN</td>\n",
       "      <td>NaN</td>\n",
       "      <td>NaN</td>\n",
       "    </tr>\n",
       "    <tr>\n",
       "      <th>...</th>\n",
       "      <td>...</td>\n",
       "      <td>...</td>\n",
       "      <td>...</td>\n",
       "      <td>...</td>\n",
       "      <td>...</td>\n",
       "      <td>...</td>\n",
       "      <td>...</td>\n",
       "      <td>...</td>\n",
       "      <td>...</td>\n",
       "      <td>...</td>\n",
       "      <td>...</td>\n",
       "      <td>...</td>\n",
       "    </tr>\n",
       "    <tr>\n",
       "      <th>2020-07-27</th>\n",
       "      <td>76.877998</td>\n",
       "      <td>75.616501</td>\n",
       "      <td>75.663002</td>\n",
       "      <td>76.471497</td>\n",
       "      <td>27124000.0</td>\n",
       "      <td>76.471497</td>\n",
       "      <td>0.013972</td>\n",
       "      <td>73.369488</td>\n",
       "      <td>4.979908</td>\n",
       "      <td>-4.979908</td>\n",
       "      <td>3.102008</td>\n",
       "      <td>NaN</td>\n",
       "    </tr>\n",
       "    <tr>\n",
       "      <th>2020-07-28</th>\n",
       "      <td>76.300499</td>\n",
       "      <td>75.026001</td>\n",
       "      <td>76.250000</td>\n",
       "      <td>75.182503</td>\n",
       "      <td>30910000.0</td>\n",
       "      <td>75.182503</td>\n",
       "      <td>-0.017000</td>\n",
       "      <td>73.471167</td>\n",
       "      <td>4.948597</td>\n",
       "      <td>-4.948597</td>\n",
       "      <td>1.711336</td>\n",
       "      <td>NaN</td>\n",
       "    </tr>\n",
       "    <tr>\n",
       "      <th>2020-07-29</th>\n",
       "      <td>76.666496</td>\n",
       "      <td>75.150497</td>\n",
       "      <td>75.250000</td>\n",
       "      <td>76.175499</td>\n",
       "      <td>22676000.0</td>\n",
       "      <td>76.175499</td>\n",
       "      <td>0.013121</td>\n",
       "      <td>73.578298</td>\n",
       "      <td>4.984043</td>\n",
       "      <td>-4.984043</td>\n",
       "      <td>2.597201</td>\n",
       "      <td>NaN</td>\n",
       "    </tr>\n",
       "    <tr>\n",
       "      <th>2020-07-30</th>\n",
       "      <td>77.044502</td>\n",
       "      <td>74.758499</td>\n",
       "      <td>74.898499</td>\n",
       "      <td>76.918503</td>\n",
       "      <td>36042000.0</td>\n",
       "      <td>76.918503</td>\n",
       "      <td>0.009707</td>\n",
       "      <td>73.701512</td>\n",
       "      <td>5.053566</td>\n",
       "      <td>-5.053566</td>\n",
       "      <td>3.216991</td>\n",
       "      <td>NaN</td>\n",
       "    </tr>\n",
       "    <tr>\n",
       "      <th>2020-07-31</th>\n",
       "      <td>75.250999</td>\n",
       "      <td>72.699997</td>\n",
       "      <td>74.852501</td>\n",
       "      <td>74.397499</td>\n",
       "      <td>91468000.0</td>\n",
       "      <td>74.397499</td>\n",
       "      <td>-0.033324</td>\n",
       "      <td>73.755845</td>\n",
       "      <td>5.032721</td>\n",
       "      <td>-5.032721</td>\n",
       "      <td>0.641654</td>\n",
       "      <td>NaN</td>\n",
       "    </tr>\n",
       "  </tbody>\n",
       "</table>\n",
       "<p>2266 rows × 12 columns</p>\n",
       "</div>"
      ],
      "text/plain": [
       "                 High        Low       Open      Close       Volume  \\\n",
       "Date                                                                  \n",
       "2011-08-01  15.402903  14.994494  15.295796  15.184434  158485356.0   \n",
       "2011-08-02  15.257007  14.804054  15.165165  14.824825  127895976.0   \n",
       "2011-08-03  15.090090  14.605355  14.871622  15.044294  152874972.0   \n",
       "2011-08-04  14.986236  14.451201  14.877377  14.452452  196387416.0   \n",
       "2011-08-05  14.764765  14.064064  14.578078  14.490490  236926836.0   \n",
       "...               ...        ...        ...        ...          ...   \n",
       "2020-07-27  76.877998  75.616501  75.663002  76.471497   27124000.0   \n",
       "2020-07-28  76.300499  75.026001  76.250000  75.182503   30910000.0   \n",
       "2020-07-29  76.666496  75.150497  75.250000  76.175499   22676000.0   \n",
       "2020-07-30  77.044502  74.758499  74.898499  76.918503   36042000.0   \n",
       "2020-07-31  75.250999  72.699997  74.852501  74.397499   91468000.0   \n",
       "\n",
       "            Adj Close    RETURN     SMA_42  Upper_Threhold  Lower_Threhold  \\\n",
       "Date                                                                         \n",
       "2011-08-01  15.184434       NaN        NaN             NaN             NaN   \n",
       "2011-08-02  14.824825 -0.023968        NaN             NaN             NaN   \n",
       "2011-08-03  15.044294  0.014696        NaN             NaN             NaN   \n",
       "2011-08-04  14.452452 -0.040135        NaN             NaN             NaN   \n",
       "2011-08-05  14.490490  0.002629        NaN             NaN             NaN   \n",
       "...               ...       ...        ...             ...             ...   \n",
       "2020-07-27  76.471497  0.013972  73.369488        4.979908       -4.979908   \n",
       "2020-07-28  75.182503 -0.017000  73.471167        4.948597       -4.948597   \n",
       "2020-07-29  76.175499  0.013121  73.578298        4.984043       -4.984043   \n",
       "2020-07-30  76.918503  0.009707  73.701512        5.053566       -5.053566   \n",
       "2020-07-31  74.397499 -0.033324  73.755845        5.032721       -5.032721   \n",
       "\n",
       "                DIST  Position  \n",
       "Date                            \n",
       "2011-08-01       NaN       NaN  \n",
       "2011-08-02       NaN       NaN  \n",
       "2011-08-03       NaN       NaN  \n",
       "2011-08-04       NaN       NaN  \n",
       "2011-08-05       NaN       NaN  \n",
       "...              ...       ...  \n",
       "2020-07-27  3.102008       NaN  \n",
       "2020-07-28  1.711336       NaN  \n",
       "2020-07-29  2.597201       NaN  \n",
       "2020-07-30  3.216991       NaN  \n",
       "2020-07-31  0.641654       NaN  \n",
       "\n",
       "[2266 rows x 12 columns]"
      ]
     },
     "execution_count": 8,
     "metadata": {},
     "output_type": "execute_result"
    }
   ],
   "source": [
    "googl_df"
   ]
  },
  {
   "cell_type": "code",
   "execution_count": 9,
   "metadata": {},
   "outputs": [
    {
     "data": {
      "text/plain": [
       "array([nan, -1.,  1.])"
      ]
     },
     "execution_count": 9,
     "metadata": {},
     "output_type": "execute_result"
    }
   ],
   "source": [
    "googl_df.Position.unique()"
   ]
  },
  {
   "cell_type": "markdown",
   "metadata": {},
   "source": [
    "### <font color = red> Answer 1 is presented in the cell below: </font>"
   ]
  },
  {
   "cell_type": "code",
   "execution_count": 10,
   "metadata": {},
   "outputs": [
    {
     "data": {
      "image/png": "[encoded data removed]",
      "text/plain": [
       "<Figure size 1600x1000 with 1 Axes>"
      ]
     },
     "metadata": {},
     "output_type": "display_data"
    }
   ],
   "source": [
    "googl_df['DIST'].plot(figsize = (16, 10), color = 'grey')\n",
    "\n",
    "plt.plot(googl_df['Position'][googl_df['Position'] == 1].index, \n",
    "    googl_df['Position'][googl_df['Position'] == 1], \"g^\",\n",
    "        googl_df['Position'][googl_df['Position'] == -1].index, \n",
    "        googl_df['Position'][googl_df['Position'] == -1], \"rv\")\n",
    "\n",
    "plt.show()"
   ]
  },
  {
   "cell_type": "markdown",
   "metadata": {},
   "source": [
    "### <font color = blue> 👉 Question 2</font>. Let’s expand this strategy to two more securities, Apple (`AAPL`) and Amazon (`AMZN`) over the same period of August 2011 to July 2020. \n",
    "\n",
    "### When using the strategy above, which of those two securities has the greater Sharpe Ratio?"
   ]
  },
  {
   "cell_type": "markdown",
   "metadata": {},
   "source": [
    "### Below are the lines of code that lead to an answer:"
   ]
  },
  {
   "cell_type": "code",
   "execution_count": 11,
   "metadata": {},
   "outputs": [],
   "source": [
    "apple_df = pdr.get_data_yahoo(\"AAPL\", \n",
    "                  start = dt.datetime(2011, 8, 1), \n",
    "                  end = dt.datetime(2020, 7, 31))\n",
    "\n",
    "amazon_df = pdr.get_data_yahoo(\"AMZN\", \n",
    "                  start = dt.datetime(2011, 8, 1), \n",
    "                  end = dt.datetime(2020, 7, 31))"
   ]
  },
  {
   "cell_type": "code",
   "execution_count": 12,
   "metadata": {},
   "outputs": [],
   "source": [
    "apple_df[\"RETURN\"] = np.log(apple_df['Adj Close'] / apple_df[\"Adj Close\"].shift(1))\n",
    "apple_df['SMA_42'] = apple_df['Adj Close'].rolling(window = 42).mean()\n",
    "apple_df['Upper_Threhold'] = 2 * apple_df['Adj Close'].rolling(window = 42).std()\n",
    "apple_df['Lower_Threhold'] = -2 * apple_df['Adj Close'].rolling(window = 42).std()\n",
    "apple_df['DIST'] = apple_df['Adj Close'] - apple_df['SMA_42']\n",
    "apple_df['POSITION'] = np.where(apple_df['DIST'] > apple_df['Upper_Threhold'], -1, np.nan)\n",
    "apple_df['POSITION'] = np.where(apple_df[\"DIST\"] < apple_df['Lower_Threhold'], 1, apple_df['POSITION'])\n",
    "apple_df['POSITION'] = np.where(apple_df['DIST'] * apple_df['DIST'].shift(1) < 0, 0, apple_df[\"POSITION\"])\n",
    "apple_df['POSITION'] = apple_df['POSITION'].ffill().fillna(0)\n",
    "apple_df['STRATEGY'] = apple_df['POSITION'].shift(1) * apple_df['RETURN']"
   ]
  },
  {
   "cell_type": "code",
   "execution_count": 13,
   "metadata": {},
   "outputs": [],
   "source": [
    "amazon_df['RETURN'] = np.log(amazon_df['Adj Close'] / amazon_df['Adj Close'].shift(1))\n",
    "amazon_df['SMA_42'] = amazon_df['Adj Close'].rolling(window = 42).mean()\n",
    "amazon_df['Upper_Threhold'] = 2 * amazon_df['Adj Close'].rolling(window = 42).std()\n",
    "amazon_df['Lower_Threhold'] = -2 * amazon_df['Adj Close'].rolling(window = 42).std()\n",
    "amazon_df['DIST'] = amazon_df['Adj Close'] - amazon_df['SMA_42']\n",
    "amazon_df['POSITION'] = np.where(amazon_df['DIST'] > amazon_df['Upper_Threhold'], -1, np.nan)\n",
    "amazon_df['POSITION'] = np.where(amazon_df['DIST'] < amazon_df['Lower_Threhold'], 1, amazon_df['POSITION'])\n",
    "amazon_df['POSITION'] = np.where(amazon_df['DIST'] * amazon_df['DIST'].shift(1) < 0, 0, amazon_df['POSITION'])\n",
    "amazon_df['POSITION'] = amazon_df['POSITION'].ffill().fillna(0)\n",
    "amazon_df['STRATEGY'] = amazon_df['POSITION'].shift(1) * amazon_df['RETURN']"
   ]
  },
  {
   "cell_type": "code",
   "execution_count": 14,
   "metadata": {},
   "outputs": [
    {
     "data": {
      "text/plain": [
       "-0.4093377442638938"
      ]
     },
     "execution_count": 14,
     "metadata": {},
     "output_type": "execute_result"
    }
   ],
   "source": [
    "# annual apple sharpe ratio\n",
    "apple_sharpe = np.sqrt(253) * (apple_df['STRATEGY'].mean() / apple_df['STRATEGY'].std())\n",
    "apple_sharpe"
   ]
  },
  {
   "cell_type": "code",
   "execution_count": 15,
   "metadata": {},
   "outputs": [
    {
     "data": {
      "text/plain": [
       "-0.27690796692277464"
      ]
     },
     "execution_count": 15,
     "metadata": {},
     "output_type": "execute_result"
    }
   ],
   "source": [
    "# annual amazon sharpe ratio\n",
    "amazon_sharpe = np.sqrt(253) * (amazon_df['STRATEGY'].mean() / amazon_df['STRATEGY'].std())\n",
    "amazon_sharpe"
   ]
  },
  {
   "cell_type": "code",
   "execution_count": 16,
   "metadata": {},
   "outputs": [
    {
     "name": "stdout",
     "output_type": "stream",
     "text": [
      "The Sharpe Ratio for stock of Apple is -0.4093377442638938\n"
     ]
    }
   ],
   "source": [
    "# apple sharpe ratio print\n",
    "print(\"The Sharpe Ratio for stock of Apple is {}\".format(apple_sharpe))"
   ]
  },
  {
   "cell_type": "code",
   "execution_count": 17,
   "metadata": {},
   "outputs": [
    {
     "name": "stdout",
     "output_type": "stream",
     "text": [
      "The Sharpe Ratio for stock of Amazon is -0.27690796692277464\n"
     ]
    }
   ],
   "source": [
    "# amazon sharpe ratio print\n",
    "print('The Sharpe Ratio for stock of Amazon is {}'.format(amazon_sharpe))"
   ]
  },
  {
   "cell_type": "code",
   "execution_count": 18,
   "metadata": {},
   "outputs": [
    {
     "data": {
      "text/plain": [
       "-0.27690796692277464"
      ]
     },
     "execution_count": 18,
     "metadata": {},
     "output_type": "execute_result"
    }
   ],
   "source": [
    "max(amazon_sharpe, apple_sharpe)"
   ]
  },
  {
   "cell_type": "code",
   "execution_count": 19,
   "metadata": {},
   "outputs": [
    {
     "name": "stdout",
     "output_type": "stream",
     "text": [
      "The answer is the stock of Amazon has greater Sharpe Ratio, which is -0.2769\n"
     ]
    }
   ],
   "source": [
    "print(\"The answer is the stock of Amazon has greater Sharpe Ratio, which is {}\"\\\n",
    "      .format(round(max(apple_sharpe, amazon_sharpe), 4)))"
   ]
  },
  {
   "cell_type": "markdown",
   "metadata": {},
   "source": [
    "### <font color = red> Answer 2 </font>\n",
    "\n",
    "    The answer is _____stock of Amazon has greater Sharpe Ratio_______ ."
   ]
  },
  {
   "cell_type": "markdown",
   "metadata": {},
   "source": [
    "### <font color = blue> 👉 Question 3</font>. Let’s suppose that you started from a `$200,000` capital base for each of the three securities.\n",
    "\n",
    "### Disregarding commission, how much will you have in the end in your account for each of the securities as a result of the mean-reversion strategy-based trading?"
   ]
  },
  {
   "cell_type": "markdown",
   "metadata": {},
   "source": [
    "### Below are the lines of code that lead to an answer:"
   ]
  },
  {
   "cell_type": "code",
   "execution_count": 20,
   "metadata": {},
   "outputs": [],
   "source": [
    "capital_base = float(200000.0)\n",
    "apple_df['POSITION'] = apple_df['POSITION'].ffill()"
   ]
  },
  {
   "cell_type": "code",
   "execution_count": 21,
   "metadata": {
    "scrolled": true
   },
   "outputs": [
    {
     "data": {
      "text/html": [
       "<div>\n",
       "<style scoped>\n",
       "    .dataframe tbody tr th:only-of-type {\n",
       "        vertical-align: middle;\n",
       "    }\n",
       "\n",
       "    .dataframe tbody tr th {\n",
       "        vertical-align: top;\n",
       "    }\n",
       "\n",
       "    .dataframe thead th {\n",
       "        text-align: right;\n",
       "    }\n",
       "</style>\n",
       "<table border=\"1\" class=\"dataframe\">\n",
       "  <thead>\n",
       "    <tr style=\"text-align: right;\">\n",
       "      <th></th>\n",
       "      <th>APPL</th>\n",
       "    </tr>\n",
       "    <tr>\n",
       "      <th>Date</th>\n",
       "      <th></th>\n",
       "    </tr>\n",
       "  </thead>\n",
       "  <tbody>\n",
       "    <tr>\n",
       "      <th>2011-08-01</th>\n",
       "      <td>0.0</td>\n",
       "    </tr>\n",
       "    <tr>\n",
       "      <th>2011-08-02</th>\n",
       "      <td>0.0</td>\n",
       "    </tr>\n",
       "    <tr>\n",
       "      <th>2011-08-03</th>\n",
       "      <td>0.0</td>\n",
       "    </tr>\n",
       "    <tr>\n",
       "      <th>2011-08-04</th>\n",
       "      <td>0.0</td>\n",
       "    </tr>\n",
       "    <tr>\n",
       "      <th>2011-08-05</th>\n",
       "      <td>0.0</td>\n",
       "    </tr>\n",
       "    <tr>\n",
       "      <th>...</th>\n",
       "      <td>...</td>\n",
       "    </tr>\n",
       "    <tr>\n",
       "      <th>2020-07-27</th>\n",
       "      <td>-200.0</td>\n",
       "    </tr>\n",
       "    <tr>\n",
       "      <th>2020-07-28</th>\n",
       "      <td>-200.0</td>\n",
       "    </tr>\n",
       "    <tr>\n",
       "      <th>2020-07-29</th>\n",
       "      <td>-200.0</td>\n",
       "    </tr>\n",
       "    <tr>\n",
       "      <th>2020-07-30</th>\n",
       "      <td>-200.0</td>\n",
       "    </tr>\n",
       "    <tr>\n",
       "      <th>2020-07-31</th>\n",
       "      <td>-200.0</td>\n",
       "    </tr>\n",
       "  </tbody>\n",
       "</table>\n",
       "<p>2266 rows × 1 columns</p>\n",
       "</div>"
      ],
      "text/plain": [
       "             APPL\n",
       "Date             \n",
       "2011-08-01    0.0\n",
       "2011-08-02    0.0\n",
       "2011-08-03    0.0\n",
       "2011-08-04    0.0\n",
       "2011-08-05    0.0\n",
       "...           ...\n",
       "2020-07-27 -200.0\n",
       "2020-07-28 -200.0\n",
       "2020-07-29 -200.0\n",
       "2020-07-30 -200.0\n",
       "2020-07-31 -200.0\n",
       "\n",
       "[2266 rows x 1 columns]"
      ]
     },
     "execution_count": 21,
     "metadata": {},
     "output_type": "execute_result"
    }
   ],
   "source": [
    "our_position_apple = pd.DataFrame(index = apple_df.index).fillna(0.0)\n",
    "our_position_apple['APPL'] = 200 * apple_df['POSITION']\n",
    "# our_position['GOOGL'] = 200 * googl_df['Position']\n",
    "# our_position['AMZN'] = 200 * amazon_df['POSITION']\n",
    "our_position_apple"
   ]
  },
  {
   "cell_type": "code",
   "execution_count": 22,
   "metadata": {},
   "outputs": [
    {
     "data": {
      "text/html": [
       "<div>\n",
       "<style scoped>\n",
       "    .dataframe tbody tr th:only-of-type {\n",
       "        vertical-align: middle;\n",
       "    }\n",
       "\n",
       "    .dataframe tbody tr th {\n",
       "        vertical-align: top;\n",
       "    }\n",
       "\n",
       "    .dataframe thead th {\n",
       "        text-align: right;\n",
       "    }\n",
       "</style>\n",
       "<table border=\"1\" class=\"dataframe\">\n",
       "  <thead>\n",
       "    <tr style=\"text-align: right;\">\n",
       "      <th></th>\n",
       "      <th>APPL</th>\n",
       "    </tr>\n",
       "    <tr>\n",
       "      <th>Date</th>\n",
       "      <th></th>\n",
       "    </tr>\n",
       "  </thead>\n",
       "  <tbody>\n",
       "    <tr>\n",
       "      <th>2011-08-01</th>\n",
       "      <td>0.000000</td>\n",
       "    </tr>\n",
       "    <tr>\n",
       "      <th>2011-08-02</th>\n",
       "      <td>0.000000</td>\n",
       "    </tr>\n",
       "    <tr>\n",
       "      <th>2011-08-03</th>\n",
       "      <td>0.000000</td>\n",
       "    </tr>\n",
       "    <tr>\n",
       "      <th>2011-08-04</th>\n",
       "      <td>0.000000</td>\n",
       "    </tr>\n",
       "    <tr>\n",
       "      <th>2011-08-05</th>\n",
       "      <td>0.000000</td>\n",
       "    </tr>\n",
       "    <tr>\n",
       "      <th>...</th>\n",
       "      <td>...</td>\n",
       "    </tr>\n",
       "    <tr>\n",
       "      <th>2020-07-27</th>\n",
       "      <td>-18671.139526</td>\n",
       "    </tr>\n",
       "    <tr>\n",
       "      <th>2020-07-28</th>\n",
       "      <td>-18364.418030</td>\n",
       "    </tr>\n",
       "    <tr>\n",
       "      <th>2020-07-29</th>\n",
       "      <td>-18716.435242</td>\n",
       "    </tr>\n",
       "    <tr>\n",
       "      <th>2020-07-30</th>\n",
       "      <td>-18942.907715</td>\n",
       "    </tr>\n",
       "    <tr>\n",
       "      <th>2020-07-31</th>\n",
       "      <td>-20926.013184</td>\n",
       "    </tr>\n",
       "  </tbody>\n",
       "</table>\n",
       "<p>2266 rows × 1 columns</p>\n",
       "</div>"
      ],
      "text/plain": [
       "                    APPL\n",
       "Date                    \n",
       "2011-08-01      0.000000\n",
       "2011-08-02      0.000000\n",
       "2011-08-03      0.000000\n",
       "2011-08-04      0.000000\n",
       "2011-08-05      0.000000\n",
       "...                  ...\n",
       "2020-07-27 -18671.139526\n",
       "2020-07-28 -18364.418030\n",
       "2020-07-29 -18716.435242\n",
       "2020-07-30 -18942.907715\n",
       "2020-07-31 -20926.013184\n",
       "\n",
       "[2266 rows x 1 columns]"
      ]
     },
     "execution_count": 22,
     "metadata": {},
     "output_type": "execute_result"
    }
   ],
   "source": [
    "our_portfolio_apple = our_position_apple.multiply(apple_df['Adj Close'], \n",
    "                                                          axis = 0)\n",
    "# our_position['GOOGL'] = our_position.GOOGL.multiply(googl_df['Adj Close'], axis = 0)\n",
    "# our_position['AMZN'] = our_position.AMZN.multiply(amazon_df['Adj Close'], axis = 0)\n",
    "\n",
    "our_portfolio_apple"
   ]
  },
  {
   "cell_type": "code",
   "execution_count": 23,
   "metadata": {},
   "outputs": [
    {
     "data": {
      "text/html": [
       "<div>\n",
       "<style scoped>\n",
       "    .dataframe tbody tr th:only-of-type {\n",
       "        vertical-align: middle;\n",
       "    }\n",
       "\n",
       "    .dataframe tbody tr th {\n",
       "        vertical-align: top;\n",
       "    }\n",
       "\n",
       "    .dataframe thead th {\n",
       "        text-align: right;\n",
       "    }\n",
       "</style>\n",
       "<table border=\"1\" class=\"dataframe\">\n",
       "  <thead>\n",
       "    <tr style=\"text-align: right;\">\n",
       "      <th></th>\n",
       "      <th>APPL</th>\n",
       "    </tr>\n",
       "    <tr>\n",
       "      <th>Date</th>\n",
       "      <th></th>\n",
       "    </tr>\n",
       "  </thead>\n",
       "  <tbody>\n",
       "    <tr>\n",
       "      <th>2011-08-01</th>\n",
       "      <td>NaN</td>\n",
       "    </tr>\n",
       "    <tr>\n",
       "      <th>2011-08-02</th>\n",
       "      <td>0.0</td>\n",
       "    </tr>\n",
       "    <tr>\n",
       "      <th>2011-08-03</th>\n",
       "      <td>0.0</td>\n",
       "    </tr>\n",
       "    <tr>\n",
       "      <th>2011-08-04</th>\n",
       "      <td>0.0</td>\n",
       "    </tr>\n",
       "    <tr>\n",
       "      <th>2011-08-05</th>\n",
       "      <td>0.0</td>\n",
       "    </tr>\n",
       "    <tr>\n",
       "      <th>...</th>\n",
       "      <td>...</td>\n",
       "    </tr>\n",
       "    <tr>\n",
       "      <th>2020-07-27</th>\n",
       "      <td>0.0</td>\n",
       "    </tr>\n",
       "    <tr>\n",
       "      <th>2020-07-28</th>\n",
       "      <td>0.0</td>\n",
       "    </tr>\n",
       "    <tr>\n",
       "      <th>2020-07-29</th>\n",
       "      <td>0.0</td>\n",
       "    </tr>\n",
       "    <tr>\n",
       "      <th>2020-07-30</th>\n",
       "      <td>0.0</td>\n",
       "    </tr>\n",
       "    <tr>\n",
       "      <th>2020-07-31</th>\n",
       "      <td>0.0</td>\n",
       "    </tr>\n",
       "  </tbody>\n",
       "</table>\n",
       "<p>2266 rows × 1 columns</p>\n",
       "</div>"
      ],
      "text/plain": [
       "            APPL\n",
       "Date            \n",
       "2011-08-01   NaN\n",
       "2011-08-02   0.0\n",
       "2011-08-03   0.0\n",
       "2011-08-04   0.0\n",
       "2011-08-05   0.0\n",
       "...          ...\n",
       "2020-07-27   0.0\n",
       "2020-07-28   0.0\n",
       "2020-07-29   0.0\n",
       "2020-07-30   0.0\n",
       "2020-07-31   0.0\n",
       "\n",
       "[2266 rows x 1 columns]"
      ]
     },
     "execution_count": 23,
     "metadata": {},
     "output_type": "execute_result"
    }
   ],
   "source": [
    "diff_in_shares_owned = our_position_apple.diff()\n",
    "\n",
    "diff_in_shares_owned"
   ]
  },
  {
   "cell_type": "code",
   "execution_count": 24,
   "metadata": {},
   "outputs": [],
   "source": [
    "our_portfolio_apple[\"our_holdings\"] = (our_position_apple.multiply(apple_df['Adj Close'],\n",
    "                                                       axis = 0)\n",
    "                                 ).sum(axis = 1)"
   ]
  },
  {
   "cell_type": "code",
   "execution_count": 25,
   "metadata": {},
   "outputs": [
    {
     "data": {
      "text/html": [
       "<div>\n",
       "<style scoped>\n",
       "    .dataframe tbody tr th:only-of-type {\n",
       "        vertical-align: middle;\n",
       "    }\n",
       "\n",
       "    .dataframe tbody tr th {\n",
       "        vertical-align: top;\n",
       "    }\n",
       "\n",
       "    .dataframe thead th {\n",
       "        text-align: right;\n",
       "    }\n",
       "</style>\n",
       "<table border=\"1\" class=\"dataframe\">\n",
       "  <thead>\n",
       "    <tr style=\"text-align: right;\">\n",
       "      <th></th>\n",
       "      <th>APPL</th>\n",
       "      <th>our_holdings</th>\n",
       "    </tr>\n",
       "    <tr>\n",
       "      <th>Date</th>\n",
       "      <th></th>\n",
       "      <th></th>\n",
       "    </tr>\n",
       "  </thead>\n",
       "  <tbody>\n",
       "    <tr>\n",
       "      <th>2011-08-01</th>\n",
       "      <td>0.000000</td>\n",
       "      <td>0.000000</td>\n",
       "    </tr>\n",
       "    <tr>\n",
       "      <th>2011-08-02</th>\n",
       "      <td>0.000000</td>\n",
       "      <td>0.000000</td>\n",
       "    </tr>\n",
       "    <tr>\n",
       "      <th>2011-08-03</th>\n",
       "      <td>0.000000</td>\n",
       "      <td>0.000000</td>\n",
       "    </tr>\n",
       "    <tr>\n",
       "      <th>2011-08-04</th>\n",
       "      <td>0.000000</td>\n",
       "      <td>0.000000</td>\n",
       "    </tr>\n",
       "    <tr>\n",
       "      <th>2011-08-05</th>\n",
       "      <td>0.000000</td>\n",
       "      <td>0.000000</td>\n",
       "    </tr>\n",
       "    <tr>\n",
       "      <th>...</th>\n",
       "      <td>...</td>\n",
       "      <td>...</td>\n",
       "    </tr>\n",
       "    <tr>\n",
       "      <th>2020-07-27</th>\n",
       "      <td>-18671.139526</td>\n",
       "      <td>-18671.139526</td>\n",
       "    </tr>\n",
       "    <tr>\n",
       "      <th>2020-07-28</th>\n",
       "      <td>-18364.418030</td>\n",
       "      <td>-18364.418030</td>\n",
       "    </tr>\n",
       "    <tr>\n",
       "      <th>2020-07-29</th>\n",
       "      <td>-18716.435242</td>\n",
       "      <td>-18716.435242</td>\n",
       "    </tr>\n",
       "    <tr>\n",
       "      <th>2020-07-30</th>\n",
       "      <td>-18942.907715</td>\n",
       "      <td>-18942.907715</td>\n",
       "    </tr>\n",
       "    <tr>\n",
       "      <th>2020-07-31</th>\n",
       "      <td>-20926.013184</td>\n",
       "      <td>-20926.013184</td>\n",
       "    </tr>\n",
       "  </tbody>\n",
       "</table>\n",
       "<p>2266 rows × 2 columns</p>\n",
       "</div>"
      ],
      "text/plain": [
       "                    APPL  our_holdings\n",
       "Date                                  \n",
       "2011-08-01      0.000000      0.000000\n",
       "2011-08-02      0.000000      0.000000\n",
       "2011-08-03      0.000000      0.000000\n",
       "2011-08-04      0.000000      0.000000\n",
       "2011-08-05      0.000000      0.000000\n",
       "...                  ...           ...\n",
       "2020-07-27 -18671.139526 -18671.139526\n",
       "2020-07-28 -18364.418030 -18364.418030\n",
       "2020-07-29 -18716.435242 -18716.435242\n",
       "2020-07-30 -18942.907715 -18942.907715\n",
       "2020-07-31 -20926.013184 -20926.013184\n",
       "\n",
       "[2266 rows x 2 columns]"
      ]
     },
     "execution_count": 25,
     "metadata": {},
     "output_type": "execute_result"
    }
   ],
   "source": [
    "our_portfolio_apple"
   ]
  },
  {
   "cell_type": "code",
   "execution_count": 26,
   "metadata": {},
   "outputs": [
    {
     "data": {
      "text/html": [
       "<div>\n",
       "<style scoped>\n",
       "    .dataframe tbody tr th:only-of-type {\n",
       "        vertical-align: middle;\n",
       "    }\n",
       "\n",
       "    .dataframe tbody tr th {\n",
       "        vertical-align: top;\n",
       "    }\n",
       "\n",
       "    .dataframe thead th {\n",
       "        text-align: right;\n",
       "    }\n",
       "</style>\n",
       "<table border=\"1\" class=\"dataframe\">\n",
       "  <thead>\n",
       "    <tr style=\"text-align: right;\">\n",
       "      <th></th>\n",
       "      <th>APPL</th>\n",
       "      <th>our_holdings</th>\n",
       "      <th>our_cash</th>\n",
       "    </tr>\n",
       "    <tr>\n",
       "      <th>Date</th>\n",
       "      <th></th>\n",
       "      <th></th>\n",
       "      <th></th>\n",
       "    </tr>\n",
       "  </thead>\n",
       "  <tbody>\n",
       "    <tr>\n",
       "      <th>2011-08-01</th>\n",
       "      <td>0.000000</td>\n",
       "      <td>0.000000</td>\n",
       "      <td>200000.000000</td>\n",
       "    </tr>\n",
       "    <tr>\n",
       "      <th>2011-08-02</th>\n",
       "      <td>0.000000</td>\n",
       "      <td>0.000000</td>\n",
       "      <td>200000.000000</td>\n",
       "    </tr>\n",
       "    <tr>\n",
       "      <th>2011-08-03</th>\n",
       "      <td>0.000000</td>\n",
       "      <td>0.000000</td>\n",
       "      <td>200000.000000</td>\n",
       "    </tr>\n",
       "    <tr>\n",
       "      <th>2011-08-04</th>\n",
       "      <td>0.000000</td>\n",
       "      <td>0.000000</td>\n",
       "      <td>200000.000000</td>\n",
       "    </tr>\n",
       "    <tr>\n",
       "      <th>2011-08-05</th>\n",
       "      <td>0.000000</td>\n",
       "      <td>0.000000</td>\n",
       "      <td>200000.000000</td>\n",
       "    </tr>\n",
       "    <tr>\n",
       "      <th>...</th>\n",
       "      <td>...</td>\n",
       "      <td>...</td>\n",
       "      <td>...</td>\n",
       "    </tr>\n",
       "    <tr>\n",
       "      <th>2020-07-27</th>\n",
       "      <td>-18671.139526</td>\n",
       "      <td>-18671.139526</td>\n",
       "      <td>211153.324509</td>\n",
       "    </tr>\n",
       "    <tr>\n",
       "      <th>2020-07-28</th>\n",
       "      <td>-18364.418030</td>\n",
       "      <td>-18364.418030</td>\n",
       "      <td>211153.324509</td>\n",
       "    </tr>\n",
       "    <tr>\n",
       "      <th>2020-07-29</th>\n",
       "      <td>-18716.435242</td>\n",
       "      <td>-18716.435242</td>\n",
       "      <td>211153.324509</td>\n",
       "    </tr>\n",
       "    <tr>\n",
       "      <th>2020-07-30</th>\n",
       "      <td>-18942.907715</td>\n",
       "      <td>-18942.907715</td>\n",
       "      <td>211153.324509</td>\n",
       "    </tr>\n",
       "    <tr>\n",
       "      <th>2020-07-31</th>\n",
       "      <td>-20926.013184</td>\n",
       "      <td>-20926.013184</td>\n",
       "      <td>211153.324509</td>\n",
       "    </tr>\n",
       "  </tbody>\n",
       "</table>\n",
       "<p>2266 rows × 3 columns</p>\n",
       "</div>"
      ],
      "text/plain": [
       "                    APPL  our_holdings       our_cash\n",
       "Date                                                 \n",
       "2011-08-01      0.000000      0.000000  200000.000000\n",
       "2011-08-02      0.000000      0.000000  200000.000000\n",
       "2011-08-03      0.000000      0.000000  200000.000000\n",
       "2011-08-04      0.000000      0.000000  200000.000000\n",
       "2011-08-05      0.000000      0.000000  200000.000000\n",
       "...                  ...           ...            ...\n",
       "2020-07-27 -18671.139526 -18671.139526  211153.324509\n",
       "2020-07-28 -18364.418030 -18364.418030  211153.324509\n",
       "2020-07-29 -18716.435242 -18716.435242  211153.324509\n",
       "2020-07-30 -18942.907715 -18942.907715  211153.324509\n",
       "2020-07-31 -20926.013184 -20926.013184  211153.324509\n",
       "\n",
       "[2266 rows x 3 columns]"
      ]
     },
     "execution_count": 26,
     "metadata": {},
     "output_type": "execute_result"
    }
   ],
   "source": [
    "our_portfolio_apple['our_cash'] = capital_base - (diff_in_shares_owned.multiply(apple_df['Adj Close'], \n",
    "                                                                                     axis = 0)\n",
    "                                                ).sum(axis = 1).cumsum()\n",
    "our_portfolio_apple"
   ]
  },
  {
   "cell_type": "code",
   "execution_count": 27,
   "metadata": {},
   "outputs": [
    {
     "data": {
      "text/html": [
       "<div>\n",
       "<style scoped>\n",
       "    .dataframe tbody tr th:only-of-type {\n",
       "        vertical-align: middle;\n",
       "    }\n",
       "\n",
       "    .dataframe tbody tr th {\n",
       "        vertical-align: top;\n",
       "    }\n",
       "\n",
       "    .dataframe thead th {\n",
       "        text-align: right;\n",
       "    }\n",
       "</style>\n",
       "<table border=\"1\" class=\"dataframe\">\n",
       "  <thead>\n",
       "    <tr style=\"text-align: right;\">\n",
       "      <th></th>\n",
       "      <th>APPL</th>\n",
       "      <th>our_holdings</th>\n",
       "      <th>our_cash</th>\n",
       "      <th>total</th>\n",
       "    </tr>\n",
       "    <tr>\n",
       "      <th>Date</th>\n",
       "      <th></th>\n",
       "      <th></th>\n",
       "      <th></th>\n",
       "      <th></th>\n",
       "    </tr>\n",
       "  </thead>\n",
       "  <tbody>\n",
       "    <tr>\n",
       "      <th>2011-08-01</th>\n",
       "      <td>0.000000</td>\n",
       "      <td>0.000000</td>\n",
       "      <td>200000.000000</td>\n",
       "      <td>200000.000000</td>\n",
       "    </tr>\n",
       "    <tr>\n",
       "      <th>2011-08-02</th>\n",
       "      <td>0.000000</td>\n",
       "      <td>0.000000</td>\n",
       "      <td>200000.000000</td>\n",
       "      <td>200000.000000</td>\n",
       "    </tr>\n",
       "    <tr>\n",
       "      <th>2011-08-03</th>\n",
       "      <td>0.000000</td>\n",
       "      <td>0.000000</td>\n",
       "      <td>200000.000000</td>\n",
       "      <td>200000.000000</td>\n",
       "    </tr>\n",
       "    <tr>\n",
       "      <th>2011-08-04</th>\n",
       "      <td>0.000000</td>\n",
       "      <td>0.000000</td>\n",
       "      <td>200000.000000</td>\n",
       "      <td>200000.000000</td>\n",
       "    </tr>\n",
       "    <tr>\n",
       "      <th>2011-08-05</th>\n",
       "      <td>0.000000</td>\n",
       "      <td>0.000000</td>\n",
       "      <td>200000.000000</td>\n",
       "      <td>200000.000000</td>\n",
       "    </tr>\n",
       "    <tr>\n",
       "      <th>...</th>\n",
       "      <td>...</td>\n",
       "      <td>...</td>\n",
       "      <td>...</td>\n",
       "      <td>...</td>\n",
       "    </tr>\n",
       "    <tr>\n",
       "      <th>2020-07-27</th>\n",
       "      <td>-18671.139526</td>\n",
       "      <td>-18671.139526</td>\n",
       "      <td>211153.324509</td>\n",
       "      <td>192482.184982</td>\n",
       "    </tr>\n",
       "    <tr>\n",
       "      <th>2020-07-28</th>\n",
       "      <td>-18364.418030</td>\n",
       "      <td>-18364.418030</td>\n",
       "      <td>211153.324509</td>\n",
       "      <td>192788.906479</td>\n",
       "    </tr>\n",
       "    <tr>\n",
       "      <th>2020-07-29</th>\n",
       "      <td>-18716.435242</td>\n",
       "      <td>-18716.435242</td>\n",
       "      <td>211153.324509</td>\n",
       "      <td>192436.889267</td>\n",
       "    </tr>\n",
       "    <tr>\n",
       "      <th>2020-07-30</th>\n",
       "      <td>-18942.907715</td>\n",
       "      <td>-18942.907715</td>\n",
       "      <td>211153.324509</td>\n",
       "      <td>192210.416794</td>\n",
       "    </tr>\n",
       "    <tr>\n",
       "      <th>2020-07-31</th>\n",
       "      <td>-20926.013184</td>\n",
       "      <td>-20926.013184</td>\n",
       "      <td>211153.324509</td>\n",
       "      <td>190227.311325</td>\n",
       "    </tr>\n",
       "  </tbody>\n",
       "</table>\n",
       "<p>2266 rows × 4 columns</p>\n",
       "</div>"
      ],
      "text/plain": [
       "                    APPL  our_holdings       our_cash          total\n",
       "Date                                                                \n",
       "2011-08-01      0.000000      0.000000  200000.000000  200000.000000\n",
       "2011-08-02      0.000000      0.000000  200000.000000  200000.000000\n",
       "2011-08-03      0.000000      0.000000  200000.000000  200000.000000\n",
       "2011-08-04      0.000000      0.000000  200000.000000  200000.000000\n",
       "2011-08-05      0.000000      0.000000  200000.000000  200000.000000\n",
       "...                  ...           ...            ...            ...\n",
       "2020-07-27 -18671.139526 -18671.139526  211153.324509  192482.184982\n",
       "2020-07-28 -18364.418030 -18364.418030  211153.324509  192788.906479\n",
       "2020-07-29 -18716.435242 -18716.435242  211153.324509  192436.889267\n",
       "2020-07-30 -18942.907715 -18942.907715  211153.324509  192210.416794\n",
       "2020-07-31 -20926.013184 -20926.013184  211153.324509  190227.311325\n",
       "\n",
       "[2266 rows x 4 columns]"
      ]
     },
     "execution_count": 27,
     "metadata": {},
     "output_type": "execute_result"
    }
   ],
   "source": [
    "our_portfolio_apple['total'] = our_portfolio_apple['our_cash'] + our_portfolio_apple['our_holdings']\n",
    "our_portfolio_apple"
   ]
  },
  {
   "cell_type": "code",
   "execution_count": 28,
   "metadata": {},
   "outputs": [
    {
     "data": {
      "text/html": [
       "<div>\n",
       "<style scoped>\n",
       "    .dataframe tbody tr th:only-of-type {\n",
       "        vertical-align: middle;\n",
       "    }\n",
       "\n",
       "    .dataframe tbody tr th {\n",
       "        vertical-align: top;\n",
       "    }\n",
       "\n",
       "    .dataframe thead th {\n",
       "        text-align: right;\n",
       "    }\n",
       "</style>\n",
       "<table border=\"1\" class=\"dataframe\">\n",
       "  <thead>\n",
       "    <tr style=\"text-align: right;\">\n",
       "      <th></th>\n",
       "      <th>APPL</th>\n",
       "      <th>our_holdings</th>\n",
       "      <th>our_cash</th>\n",
       "      <th>total</th>\n",
       "      <th>return</th>\n",
       "    </tr>\n",
       "    <tr>\n",
       "      <th>Date</th>\n",
       "      <th></th>\n",
       "      <th></th>\n",
       "      <th></th>\n",
       "      <th></th>\n",
       "      <th></th>\n",
       "    </tr>\n",
       "  </thead>\n",
       "  <tbody>\n",
       "    <tr>\n",
       "      <th>2011-08-01</th>\n",
       "      <td>0.000000</td>\n",
       "      <td>0.000000</td>\n",
       "      <td>200000.000000</td>\n",
       "      <td>200000.000000</td>\n",
       "      <td>NaN</td>\n",
       "    </tr>\n",
       "    <tr>\n",
       "      <th>2011-08-02</th>\n",
       "      <td>0.000000</td>\n",
       "      <td>0.000000</td>\n",
       "      <td>200000.000000</td>\n",
       "      <td>200000.000000</td>\n",
       "      <td>0.000000</td>\n",
       "    </tr>\n",
       "    <tr>\n",
       "      <th>2011-08-03</th>\n",
       "      <td>0.000000</td>\n",
       "      <td>0.000000</td>\n",
       "      <td>200000.000000</td>\n",
       "      <td>200000.000000</td>\n",
       "      <td>0.000000</td>\n",
       "    </tr>\n",
       "    <tr>\n",
       "      <th>2011-08-04</th>\n",
       "      <td>0.000000</td>\n",
       "      <td>0.000000</td>\n",
       "      <td>200000.000000</td>\n",
       "      <td>200000.000000</td>\n",
       "      <td>0.000000</td>\n",
       "    </tr>\n",
       "    <tr>\n",
       "      <th>2011-08-05</th>\n",
       "      <td>0.000000</td>\n",
       "      <td>0.000000</td>\n",
       "      <td>200000.000000</td>\n",
       "      <td>200000.000000</td>\n",
       "      <td>0.000000</td>\n",
       "    </tr>\n",
       "    <tr>\n",
       "      <th>...</th>\n",
       "      <td>...</td>\n",
       "      <td>...</td>\n",
       "      <td>...</td>\n",
       "      <td>...</td>\n",
       "      <td>...</td>\n",
       "    </tr>\n",
       "    <tr>\n",
       "      <th>2020-07-27</th>\n",
       "      <td>-18671.139526</td>\n",
       "      <td>-18671.139526</td>\n",
       "      <td>211153.324509</td>\n",
       "      <td>192482.184982</td>\n",
       "      <td>-0.002241</td>\n",
       "    </tr>\n",
       "    <tr>\n",
       "      <th>2020-07-28</th>\n",
       "      <td>-18364.418030</td>\n",
       "      <td>-18364.418030</td>\n",
       "      <td>211153.324509</td>\n",
       "      <td>192788.906479</td>\n",
       "      <td>0.001594</td>\n",
       "    </tr>\n",
       "    <tr>\n",
       "      <th>2020-07-29</th>\n",
       "      <td>-18716.435242</td>\n",
       "      <td>-18716.435242</td>\n",
       "      <td>211153.324509</td>\n",
       "      <td>192436.889267</td>\n",
       "      <td>-0.001826</td>\n",
       "    </tr>\n",
       "    <tr>\n",
       "      <th>2020-07-30</th>\n",
       "      <td>-18942.907715</td>\n",
       "      <td>-18942.907715</td>\n",
       "      <td>211153.324509</td>\n",
       "      <td>192210.416794</td>\n",
       "      <td>-0.001177</td>\n",
       "    </tr>\n",
       "    <tr>\n",
       "      <th>2020-07-31</th>\n",
       "      <td>-20926.013184</td>\n",
       "      <td>-20926.013184</td>\n",
       "      <td>211153.324509</td>\n",
       "      <td>190227.311325</td>\n",
       "      <td>-0.010317</td>\n",
       "    </tr>\n",
       "  </tbody>\n",
       "</table>\n",
       "<p>2266 rows × 5 columns</p>\n",
       "</div>"
      ],
      "text/plain": [
       "                    APPL  our_holdings       our_cash          total    return\n",
       "Date                                                                          \n",
       "2011-08-01      0.000000      0.000000  200000.000000  200000.000000       NaN\n",
       "2011-08-02      0.000000      0.000000  200000.000000  200000.000000  0.000000\n",
       "2011-08-03      0.000000      0.000000  200000.000000  200000.000000  0.000000\n",
       "2011-08-04      0.000000      0.000000  200000.000000  200000.000000  0.000000\n",
       "2011-08-05      0.000000      0.000000  200000.000000  200000.000000  0.000000\n",
       "...                  ...           ...            ...            ...       ...\n",
       "2020-07-27 -18671.139526 -18671.139526  211153.324509  192482.184982 -0.002241\n",
       "2020-07-28 -18364.418030 -18364.418030  211153.324509  192788.906479  0.001594\n",
       "2020-07-29 -18716.435242 -18716.435242  211153.324509  192436.889267 -0.001826\n",
       "2020-07-30 -18942.907715 -18942.907715  211153.324509  192210.416794 -0.001177\n",
       "2020-07-31 -20926.013184 -20926.013184  211153.324509  190227.311325 -0.010317\n",
       "\n",
       "[2266 rows x 5 columns]"
      ]
     },
     "execution_count": 28,
     "metadata": {},
     "output_type": "execute_result"
    }
   ],
   "source": [
    "our_portfolio_apple['return'] = our_portfolio_apple['total'].pct_change()\n",
    "our_portfolio_apple"
   ]
  },
  {
   "cell_type": "markdown",
   "metadata": {},
   "source": [
    "### <font color = red> Answer 3 </font>\n",
    "\n",
    "    GOOGL : _____149310.9169_______ \n",
    "    \n",
    "    AAPL  : ______85535.0933______ \n",
    "     \n",
    "    AMZN  : _____112025.8221_______ \n",
    "    "
   ]
  },
  {
   "cell_type": "markdown",
   "metadata": {},
   "source": [
    "### <font color = blue> 👉 Question 4</font>. What are the compound annual growth rates of each of the securities, based on the current mean-reversion strategy-based trading? "
   ]
  },
  {
   "cell_type": "markdown",
   "metadata": {},
   "source": [
    "### Below are the lines of code that lead to an answer:"
   ]
  },
  {
   "cell_type": "code",
   "execution_count": 29,
   "metadata": {},
   "outputs": [
    {
     "ename": "KeyError",
     "evalue": "'STRATEGY'",
     "output_type": "error",
     "traceback": [
      "\u001b[0;31m---------------------------------------------------------------------------\u001b[0m",
      "\u001b[0;31mKeyError\u001b[0m                                  Traceback (most recent call last)",
      "\u001b[0;32m~/opt/anaconda3/lib/python3.9/site-packages/pandas/core/indexes/base.py\u001b[0m in \u001b[0;36mget_loc\u001b[0;34m(self, key, method, tolerance)\u001b[0m\n\u001b[1;32m   3802\u001b[0m             \u001b[0;32mtry\u001b[0m\u001b[0;34m:\u001b[0m\u001b[0;34m\u001b[0m\u001b[0;34m\u001b[0m\u001b[0m\n\u001b[0;32m-> 3803\u001b[0;31m                 \u001b[0;32mreturn\u001b[0m \u001b[0mself\u001b[0m\u001b[0;34m.\u001b[0m\u001b[0m_engine\u001b[0m\u001b[0;34m.\u001b[0m\u001b[0mget_loc\u001b[0m\u001b[0;34m(\u001b[0m\u001b[0mcasted_key\u001b[0m\u001b[0;34m)\u001b[0m\u001b[0;34m\u001b[0m\u001b[0;34m\u001b[0m\u001b[0m\n\u001b[0m\u001b[1;32m   3804\u001b[0m             \u001b[0;32mexcept\u001b[0m \u001b[0mKeyError\u001b[0m \u001b[0;32mas\u001b[0m \u001b[0merr\u001b[0m\u001b[0;34m:\u001b[0m\u001b[0;34m\u001b[0m\u001b[0;34m\u001b[0m\u001b[0m\n",
      "\u001b[0;32m~/opt/anaconda3/lib/python3.9/site-packages/pandas/_libs/index.pyx\u001b[0m in \u001b[0;36mpandas._libs.index.IndexEngine.get_loc\u001b[0;34m()\u001b[0m\n",
      "\u001b[0;32m~/opt/anaconda3/lib/python3.9/site-packages/pandas/_libs/index.pyx\u001b[0m in \u001b[0;36mpandas._libs.index.IndexEngine.get_loc\u001b[0;34m()\u001b[0m\n",
      "\u001b[0;32mpandas/_libs/hashtable_class_helper.pxi\u001b[0m in \u001b[0;36mpandas._libs.hashtable.PyObjectHashTable.get_item\u001b[0;34m()\u001b[0m\n",
      "\u001b[0;32mpandas/_libs/hashtable_class_helper.pxi\u001b[0m in \u001b[0;36mpandas._libs.hashtable.PyObjectHashTable.get_item\u001b[0;34m()\u001b[0m\n",
      "\u001b[0;31mKeyError\u001b[0m: 'STRATEGY'",
      "\nThe above exception was the direct cause of the following exception:\n",
      "\u001b[0;31mKeyError\u001b[0m                                  Traceback (most recent call last)",
      "\u001b[0;32m/var/folders/wb/qzrcgmhs6t7182jnxtznddxr0000gn/T/ipykernel_6586/3328087776.py\u001b[0m in \u001b[0;36m<module>\u001b[0;34m\u001b[0m\n\u001b[1;32m      1\u001b[0m \u001b[0;31m# googl CAGR\u001b[0m\u001b[0;34m\u001b[0m\u001b[0;34m\u001b[0m\u001b[0m\n\u001b[1;32m      2\u001b[0m \u001b[0mgoogl_days\u001b[0m \u001b[0;34m=\u001b[0m \u001b[0;34m(\u001b[0m\u001b[0mgoogl_df\u001b[0m\u001b[0;34m.\u001b[0m\u001b[0mindex\u001b[0m\u001b[0;34m[\u001b[0m\u001b[0;34m-\u001b[0m\u001b[0;36m1\u001b[0m\u001b[0;34m]\u001b[0m \u001b[0;34m-\u001b[0m \u001b[0mgoogl_df\u001b[0m\u001b[0;34m.\u001b[0m\u001b[0mindex\u001b[0m\u001b[0;34m[\u001b[0m\u001b[0;36m0\u001b[0m\u001b[0;34m]\u001b[0m\u001b[0;34m)\u001b[0m\u001b[0;34m.\u001b[0m\u001b[0mdays\u001b[0m\u001b[0;34m\u001b[0m\u001b[0;34m\u001b[0m\u001b[0m\n\u001b[0;32m----> 3\u001b[0;31m \u001b[0mgoogl_CAGR\u001b[0m \u001b[0;34m=\u001b[0m \u001b[0;34m(\u001b[0m\u001b[0mnp\u001b[0m\u001b[0;34m.\u001b[0m\u001b[0mexp\u001b[0m\u001b[0;34m(\u001b[0m\u001b[0mgoogl_df\u001b[0m\u001b[0;34m[\u001b[0m\u001b[0;34m'STRATEGY'\u001b[0m\u001b[0;34m]\u001b[0m\u001b[0;34m.\u001b[0m\u001b[0msum\u001b[0m\u001b[0;34m(\u001b[0m\u001b[0;34m)\u001b[0m\u001b[0;34m)\u001b[0m\u001b[0;34m)\u001b[0m \u001b[0;34m**\u001b[0m \u001b[0;34m(\u001b[0m\u001b[0;36m1\u001b[0m \u001b[0;34m/\u001b[0m \u001b[0;34m(\u001b[0m\u001b[0mgoogl_days\u001b[0m \u001b[0;34m/\u001b[0m \u001b[0;36m365\u001b[0m\u001b[0;34m)\u001b[0m\u001b[0;34m)\u001b[0m \u001b[0;34m-\u001b[0m \u001b[0;36m1\u001b[0m\u001b[0;34m\u001b[0m\u001b[0;34m\u001b[0m\u001b[0m\n\u001b[0m\u001b[1;32m      4\u001b[0m \u001b[0mgoogl_CAGR\u001b[0m\u001b[0;34m\u001b[0m\u001b[0;34m\u001b[0m\u001b[0m\n",
      "\u001b[0;32m~/opt/anaconda3/lib/python3.9/site-packages/pandas/core/frame.py\u001b[0m in \u001b[0;36m__getitem__\u001b[0;34m(self, key)\u001b[0m\n\u001b[1;32m   3802\u001b[0m             \u001b[0;32mif\u001b[0m \u001b[0mself\u001b[0m\u001b[0;34m.\u001b[0m\u001b[0mcolumns\u001b[0m\u001b[0;34m.\u001b[0m\u001b[0mnlevels\u001b[0m \u001b[0;34m>\u001b[0m \u001b[0;36m1\u001b[0m\u001b[0;34m:\u001b[0m\u001b[0;34m\u001b[0m\u001b[0;34m\u001b[0m\u001b[0m\n\u001b[1;32m   3803\u001b[0m                 \u001b[0;32mreturn\u001b[0m \u001b[0mself\u001b[0m\u001b[0;34m.\u001b[0m\u001b[0m_getitem_multilevel\u001b[0m\u001b[0;34m(\u001b[0m\u001b[0mkey\u001b[0m\u001b[0;34m)\u001b[0m\u001b[0;34m\u001b[0m\u001b[0;34m\u001b[0m\u001b[0m\n\u001b[0;32m-> 3804\u001b[0;31m             \u001b[0mindexer\u001b[0m \u001b[0;34m=\u001b[0m \u001b[0mself\u001b[0m\u001b[0;34m.\u001b[0m\u001b[0mcolumns\u001b[0m\u001b[0;34m.\u001b[0m\u001b[0mget_loc\u001b[0m\u001b[0;34m(\u001b[0m\u001b[0mkey\u001b[0m\u001b[0;34m)\u001b[0m\u001b[0;34m\u001b[0m\u001b[0;34m\u001b[0m\u001b[0m\n\u001b[0m\u001b[1;32m   3805\u001b[0m             \u001b[0;32mif\u001b[0m \u001b[0mis_integer\u001b[0m\u001b[0;34m(\u001b[0m\u001b[0mindexer\u001b[0m\u001b[0;34m)\u001b[0m\u001b[0;34m:\u001b[0m\u001b[0;34m\u001b[0m\u001b[0;34m\u001b[0m\u001b[0m\n\u001b[1;32m   3806\u001b[0m                 \u001b[0mindexer\u001b[0m \u001b[0;34m=\u001b[0m \u001b[0;34m[\u001b[0m\u001b[0mindexer\u001b[0m\u001b[0;34m]\u001b[0m\u001b[0;34m\u001b[0m\u001b[0;34m\u001b[0m\u001b[0m\n",
      "\u001b[0;32m~/opt/anaconda3/lib/python3.9/site-packages/pandas/core/indexes/base.py\u001b[0m in \u001b[0;36mget_loc\u001b[0;34m(self, key, method, tolerance)\u001b[0m\n\u001b[1;32m   3803\u001b[0m                 \u001b[0;32mreturn\u001b[0m \u001b[0mself\u001b[0m\u001b[0;34m.\u001b[0m\u001b[0m_engine\u001b[0m\u001b[0;34m.\u001b[0m\u001b[0mget_loc\u001b[0m\u001b[0;34m(\u001b[0m\u001b[0mcasted_key\u001b[0m\u001b[0;34m)\u001b[0m\u001b[0;34m\u001b[0m\u001b[0;34m\u001b[0m\u001b[0m\n\u001b[1;32m   3804\u001b[0m             \u001b[0;32mexcept\u001b[0m \u001b[0mKeyError\u001b[0m \u001b[0;32mas\u001b[0m \u001b[0merr\u001b[0m\u001b[0;34m:\u001b[0m\u001b[0;34m\u001b[0m\u001b[0;34m\u001b[0m\u001b[0m\n\u001b[0;32m-> 3805\u001b[0;31m                 \u001b[0;32mraise\u001b[0m \u001b[0mKeyError\u001b[0m\u001b[0;34m(\u001b[0m\u001b[0mkey\u001b[0m\u001b[0;34m)\u001b[0m \u001b[0;32mfrom\u001b[0m \u001b[0merr\u001b[0m\u001b[0;34m\u001b[0m\u001b[0;34m\u001b[0m\u001b[0m\n\u001b[0m\u001b[1;32m   3806\u001b[0m             \u001b[0;32mexcept\u001b[0m \u001b[0mTypeError\u001b[0m\u001b[0;34m:\u001b[0m\u001b[0;34m\u001b[0m\u001b[0;34m\u001b[0m\u001b[0m\n\u001b[1;32m   3807\u001b[0m                 \u001b[0;31m# If we have a listlike key, _check_indexing_error will raise\u001b[0m\u001b[0;34m\u001b[0m\u001b[0;34m\u001b[0m\u001b[0m\n",
      "\u001b[0;31mKeyError\u001b[0m: 'STRATEGY'"
     ]
    }
   ],
   "source": [
    "# googl CAGR\n",
    "googl_days = (googl_df.index[-1] - googl_df.index[0]).days\n",
    "googl_CAGR = (np.exp(googl_df['STRATEGY'].sum())) ** (1 / (googl_days / 365)) - 1\n",
    "googl_CAGR"
   ]
  },
  {
   "cell_type": "code",
   "execution_count": null,
   "metadata": {},
   "outputs": [],
   "source": [
    "print('The compound annual growth rate of security of GOOGL is {}'. format(round(googl_CAGR, 4)))"
   ]
  },
  {
   "cell_type": "code",
   "execution_count": null,
   "metadata": {},
   "outputs": [],
   "source": [
    "# apple CAGR\n",
    "apple_days = (apple_df.index[-1] - apple_df.index[0]).days\n",
    "apple_CAGR = (np.exp(apple_df['STRATEGY'].sum())) ** (1 / (apple_days / 365)) - 1\n",
    "apple_CAGR"
   ]
  },
  {
   "cell_type": "code",
   "execution_count": null,
   "metadata": {},
   "outputs": [],
   "source": [
    "print(\"The compound annual growth rates of security of AAPL is {}\".format(round(apple_CAGR, 4)))"
   ]
  },
  {
   "cell_type": "code",
   "execution_count": null,
   "metadata": {},
   "outputs": [],
   "source": [
    "# amazon CAGR\n",
    "amazon_days = (amazon_df.index[-1] - amazon_df.index[0]).days\n",
    "amazon_CAGR = (np.exp(amazon_df['STRATEGY'].sum())) ** (1 / (amazon_days / 365)) - 1\n",
    "amazon_CAGR"
   ]
  },
  {
   "cell_type": "code",
   "execution_count": null,
   "metadata": {},
   "outputs": [],
   "source": [
    "print('The compound annual growth rates of security of AMZN is {}'.format(round(amazon_CAGR, 4)))"
   ]
  },
  {
   "cell_type": "markdown",
   "metadata": {},
   "source": [
    "### <font color = red> Answer 4 </font>\n",
    "\n",
    "    GOOGL : ______-0.0319______ \n",
    "    \n",
    "    AAPL  : ______-0.09______ \n",
    "     \n",
    "    AMZN  : ______-0.0623______ "
   ]
  },
  {
   "cell_type": "markdown",
   "metadata": {},
   "source": [
    "## 👇 Questions 5 to 7 ask you to build, execute, and backtest a momentum strategy."
   ]
  },
  {
   "cell_type": "markdown",
   "metadata": {},
   "source": [
    "###  <font color = blue> 👉 Question 5. </font> Our securities of interest are Goldman Sachs (`GS`) and JP Morgan Chase (`JPM`) stock. The time period for analysis is from November 2013 to October 2021.\n",
    "\n",
    "### Here’s our use of the momentum indicator, reflecting the moving averages of stock prices for trend following.\n",
    "\n",
    "### The two moving windows are 24 days and 58 days.\n",
    "\n",
    "### Calculate and visualize the maximum drawdowns and the longest drawdown periods for `GS` and `JPM`."
   ]
  },
  {
   "cell_type": "markdown",
   "metadata": {},
   "source": [
    "### Below are the lines of code that lead to an answer:"
   ]
  },
  {
   "cell_type": "code",
   "execution_count": null,
   "metadata": {},
   "outputs": [],
   "source": [
    "# GS\n",
    "gs_df = pdr.get_data_yahoo(\"GS\", \n",
    "                           start = dt.datetime(2013, 11, 1), \n",
    "                           end = dt.datetime(2021, 10, 31))"
   ]
  },
  {
   "cell_type": "code",
   "execution_count": null,
   "metadata": {},
   "outputs": [],
   "source": [
    "gs_df['RETURN'] = np.log(gs_df['Adj Close'] / gs_df['Adj Close'].shift(1))"
   ]
  },
  {
   "cell_type": "code",
   "execution_count": null,
   "metadata": {},
   "outputs": [],
   "source": [
    "gs_df['SMA_24'] = gs_df['Adj Close'].rolling(window = 24).mean()\n",
    "gs_df['SMA_58'] = gs_df['Adj Close'].rolling(window = 58).mean()"
   ]
  },
  {
   "cell_type": "code",
   "execution_count": null,
   "metadata": {},
   "outputs": [],
   "source": [
    "gs_df['POSITION'] = np.where(gs_df['SMA_24'] < gs_df['SMA_58'], -1, 1)"
   ]
  },
  {
   "cell_type": "code",
   "execution_count": null,
   "metadata": {},
   "outputs": [],
   "source": [
    "gs_df.dropna(inplace = True)"
   ]
  },
  {
   "cell_type": "code",
   "execution_count": null,
   "metadata": {},
   "outputs": [],
   "source": [
    "gs_df[\"STRATEGY\"] = gs_df['POSITION'].shift(1) * gs_df['RETURN']"
   ]
  },
  {
   "cell_type": "code",
   "execution_count": null,
   "metadata": {},
   "outputs": [],
   "source": [
    "gs_df['CUMULATIVE_RETURNS'] = gs_df['STRATEGY'].cumsum().apply(np.exp)\n",
    "gs_df['MAX_GROSS_PERFORMANCE'] = gs_df['CUMULATIVE_RETURNS'].cummax()"
   ]
  },
  {
   "cell_type": "code",
   "execution_count": null,
   "metadata": {},
   "outputs": [],
   "source": [
    "# JPM\n",
    "jpm_df = pdr.get_data_yahoo(\"JPM\", \n",
    "                            start = dt.datetime(2013, 11, 1), \n",
    "                            end = dt.datetime(2021, 10, 31))"
   ]
  },
  {
   "cell_type": "code",
   "execution_count": null,
   "metadata": {},
   "outputs": [],
   "source": [
    "jpm_df['RETURN'] = np.log(jpm_df['Adj Close'] / jpm_df['Adj Close'].shift(1))\n",
    "jpm_df['SMA_24'] = jpm_df['Adj Close'].rolling(window = 24).mean()\n",
    "jpm_df['SMA_58'] = jpm_df['Adj Close'].rolling(window = 58).mean()\n",
    "jpm_df['POSITION'] = np.where(jpm_df['SMA_24'] < jpm_df['SMA_58'], -1, 1)"
   ]
  },
  {
   "cell_type": "code",
   "execution_count": null,
   "metadata": {},
   "outputs": [],
   "source": [
    "jpm_df.dropna(inplace = True)"
   ]
  },
  {
   "cell_type": "code",
   "execution_count": null,
   "metadata": {},
   "outputs": [],
   "source": [
    "jpm_df['STRATEGY'] = jpm_df['POSITION'].shift(1) * jpm_df['RETURN']"
   ]
  },
  {
   "cell_type": "code",
   "execution_count": null,
   "metadata": {},
   "outputs": [],
   "source": [
    "jpm_df['CUMULATIVE_RETURNS'] = jpm_df['STRATEGY'].cumsum().apply(np.exp)\n",
    "jpm_df['MAX_GROSS_PERFORMANCE'] = jpm_df['CUMULATIVE_RETURNS'].cummax()"
   ]
  },
  {
   "cell_type": "markdown",
   "metadata": {},
   "source": [
    "### <font color = red> Answer 5 (`visualization component`) is presented in the cell below: </font>"
   ]
  },
  {
   "cell_type": "code",
   "execution_count": null,
   "metadata": {},
   "outputs": [],
   "source": [
    "# GS visualization\n",
    "gs_df[['CUMULATIVE_RETURNS', \"MAX_GROSS_PERFORMANCE\"]].dropna().plot(figsize = (16, 10))"
   ]
  },
  {
   "cell_type": "code",
   "execution_count": null,
   "metadata": {},
   "outputs": [],
   "source": [
    "# JPM visualization\n",
    "jpm_df[[\"CUMULATIVE_RETURNS\", 'MAX_GROSS_PERFORMANCE']].dropna().plot(figsize = (16, 10))"
   ]
  },
  {
   "cell_type": "code",
   "execution_count": null,
   "metadata": {},
   "outputs": [],
   "source": [
    "# GS maximum drawdown\n",
    "gs_drawdown = gs_df['MAX_GROSS_PERFORMANCE'] - gs_df['CUMULATIVE_RETURNS']\n",
    "gs_drawdown.max()"
   ]
  },
  {
   "cell_type": "code",
   "execution_count": null,
   "metadata": {},
   "outputs": [],
   "source": [
    "# GS longest drawdown period\n",
    "gs_period = gs_drawdown[gs_drawdown == 0].index[1:].to_pydatetime() - gs_drawdown[gs_drawdown == 0].index[:-1].to_pydatetime()\n",
    "gs_period.max().days"
   ]
  },
  {
   "cell_type": "code",
   "execution_count": null,
   "metadata": {},
   "outputs": [],
   "source": [
    "print(\"As to GS, the maximum drawdown is about {} percentage points\".format(round(gs_drawdown.max() * 100, 4)))"
   ]
  },
  {
   "cell_type": "code",
   "execution_count": null,
   "metadata": {},
   "outputs": [],
   "source": [
    "print(\"As to GS, the longest drawdown period lasts for {} days\".format(gs_period.max().days))"
   ]
  },
  {
   "cell_type": "code",
   "execution_count": null,
   "metadata": {},
   "outputs": [],
   "source": [
    "# JPM drawdown\n",
    "jpm_drawdown = (jpm_df['MAX_GROSS_PERFORMANCE'] - jpm_df['CUMULATIVE_RETURNS'])\n",
    "jpm_drawdown.max()"
   ]
  },
  {
   "cell_type": "code",
   "execution_count": null,
   "metadata": {},
   "outputs": [],
   "source": [
    "# JPM longest drawdown period\n",
    "jpm_period = jpm_drawdown[jpm_drawdown == 0].index[1:].to_pydatetime() - jpm_drawdown[jpm_drawdown == 0].index[:-1].to_pydatetime()\n",
    "jpm_period.max().days"
   ]
  },
  {
   "cell_type": "code",
   "execution_count": null,
   "metadata": {},
   "outputs": [],
   "source": [
    "print(\"As to JPM, the maximum drawdown is about {} percentage points\".format(round(jpm_drawdown.max() * 100, 4)))"
   ]
  },
  {
   "cell_type": "code",
   "execution_count": null,
   "metadata": {},
   "outputs": [],
   "source": [
    "print(\"As to JPM, the longest drawdown period lasts for {} days\".format(jpm_period.max().days))"
   ]
  },
  {
   "cell_type": "markdown",
   "metadata": {},
   "source": [
    "### <font color = red> Answer 5 </font>\n",
    "    \n",
    "    As to GS,\n",
    "    \n",
    "    The maximum drawdown is about ____________ percentage points.\n",
    "    The longest drawdown period lasts for _____________ days.\n",
    "    \n",
    "    As to JPM,\n",
    "    \n",
    "    The maximum drawdown is about ____________ percentage points.\n",
    "    The longest drawdown period lasts for _____________ days.\n",
    "    "
   ]
  },
  {
   "cell_type": "markdown",
   "metadata": {},
   "source": [
    "###  <font color = blue> 👉 Question 6. </font>  If you had started with a capital of $300,000 for each of the three securities, how much would be left in your account after trading according to your above strategies for `GS` and `JPM`?"
   ]
  },
  {
   "cell_type": "markdown",
   "metadata": {},
   "source": [
    "### Below are the lines of code that lead to an answer:"
   ]
  },
  {
   "cell_type": "code",
   "execution_count": null,
   "metadata": {},
   "outputs": [],
   "source": [
    "capital_base = 300000"
   ]
  },
  {
   "cell_type": "code",
   "execution_count": null,
   "metadata": {},
   "outputs": [],
   "source": [
    "# security of GS\n",
    "gs_gain = capital_base * gs_df['CUMULATIVE_RETURNS'][-1]\n",
    "gs_gain"
   ]
  },
  {
   "cell_type": "code",
   "execution_count": null,
   "metadata": {},
   "outputs": [],
   "source": [
    "print(\"There are ${} left in my account after trading according to strategy for security of GS\".format(round(gs_gain, 4)))"
   ]
  },
  {
   "cell_type": "code",
   "execution_count": null,
   "metadata": {},
   "outputs": [],
   "source": [
    "# security of JPM\n",
    "jpm_gain = capital_base * jpm_df['CUMULATIVE_RETURNS'][-1]\n",
    "jpm_gain"
   ]
  },
  {
   "cell_type": "code",
   "execution_count": null,
   "metadata": {},
   "outputs": [],
   "source": [
    "print(\"There are ${} left in my account after trading according to strategy for security of JPM\".format(round(jpm_gain, 4)))"
   ]
  },
  {
   "cell_type": "markdown",
   "metadata": {},
   "source": [
    "### <font color = red> Answer 6 </font>\n",
    "\n",
    "    The answer is ____________________________ ."
   ]
  },
  {
   "cell_type": "markdown",
   "metadata": {},
   "source": [
    "###  <font color = blue> 👉 Question 7. </font> Using the current momentum strategy, how many trading opportunities were there for GS and JPM?"
   ]
  },
  {
   "cell_type": "markdown",
   "metadata": {},
   "source": [
    "### Below are the lines of code that lead to an answer:"
   ]
  },
  {
   "cell_type": "code",
   "execution_count": null,
   "metadata": {},
   "outputs": [],
   "source": [
    "gs_trading = ((gs_df[\"POSITION\"] * gs_df['POSITION'].shift(1)) < 0).sum()\n",
    "gs_trading"
   ]
  },
  {
   "cell_type": "code",
   "execution_count": null,
   "metadata": {},
   "outputs": [],
   "source": [
    "print(\"The trading opportunities for GS are {} using the current momentum strategy\".format(gs_trading))"
   ]
  },
  {
   "cell_type": "code",
   "execution_count": null,
   "metadata": {},
   "outputs": [],
   "source": [
    "jpm_trading = (jpm_df['POSITION'] * jpm_df['POSITION'].shift(1) < 0).sum()\n",
    "jpm_trading"
   ]
  },
  {
   "cell_type": "code",
   "execution_count": null,
   "metadata": {},
   "outputs": [],
   "source": [
    "print(\"The trading opportunities for JPM are {} using the current momentum strategy.\".format(jpm_trading))"
   ]
  },
  {
   "cell_type": "markdown",
   "metadata": {},
   "source": [
    "### <font color = red> Answer 7 </font>\n",
    "\n",
    "    The answer is ____________________________ ."
   ]
  },
  {
   "cell_type": "markdown",
   "metadata": {},
   "source": [
    "## 👇 Questions 8 and 10 ask you to predict future market direction. Let's analyze `GE`."
   ]
  },
  {
   "cell_type": "markdown",
   "metadata": {},
   "source": [
    "###  <font color = blue> 👉 Question 8. </font> \n",
    "\n",
    "### Here, first, predict tomorrow’s index level given the index level of today, yesterday, the day before yesterday—namely, three lags.\n",
    "\n",
    "### Then, also predict tomorrow’s index level, using 30 lags.  <font color = blue> Choose between the two lags that give you better prediction results for your answer to this question</font>.\n",
    "\n",
    "### Use `scikit-learn` module with solver `lbfgs`, setting `C` at `1e7`, `max_iter` at `1000`.\n",
    "\n",
    "### Plot the gross performance of the base instrument and the strategy over time (in-sample, no transaction costs)."
   ]
  },
  {
   "cell_type": "markdown",
   "metadata": {},
   "source": [
    "### Below are the lines of code that lead to an answer:"
   ]
  },
  {
   "cell_type": "code",
   "execution_count": null,
   "metadata": {},
   "outputs": [],
   "source": [
    "# lag 3\n",
    "ge_df = pdr.get_data_yahoo('GE', \n",
    "                          start = dt.datetime(2013, 11, 1), \n",
    "                          end = dt.datetime(2021, 10, 31))"
   ]
  },
  {
   "cell_type": "code",
   "execution_count": null,
   "metadata": {},
   "outputs": [],
   "source": [
    "ge_df['RETURN'] = np.log(ge_df[\"Close\"] / ge_df['Close'].shift(1))\n"
   ]
  },
  {
   "cell_type": "code",
   "execution_count": null,
   "metadata": {},
   "outputs": [],
   "source": [
    "ge_df.dropna(inplace = True)"
   ]
  },
  {
   "cell_type": "code",
   "execution_count": null,
   "metadata": {},
   "outputs": [],
   "source": [
    "lag = 3\n",
    "\n",
    "COLS = []\n",
    "\n",
    "for lag in range(1, lag + 1):\n",
    "    col = \"lag_{}\".format(lag)\n",
    "    ge_df[col] = ge_df['RETURN'].shift(lag)\n",
    "    COLS.append(col)\n",
    "    \n",
    "ge_df.dropna(inplace = True)"
   ]
  },
  {
   "cell_type": "code",
   "execution_count": null,
   "metadata": {},
   "outputs": [],
   "source": [
    "from sklearn import linear_model\n",
    "from sklearn.metrics import accuracy_score"
   ]
  },
  {
   "cell_type": "code",
   "execution_count": null,
   "metadata": {},
   "outputs": [],
   "source": [
    "M = linear_model.LogisticRegression(solver = \"lbfgs\",\n",
    "                                    C = 1e7,\n",
    "                                    multi_class = \"auto\",\n",
    "                                    max_iter = 1000)"
   ]
  },
  {
   "cell_type": "code",
   "execution_count": null,
   "metadata": {},
   "outputs": [],
   "source": [
    "M = linear_model.LogisticRegression(solver = 'lbfgs', \n",
    "                                   C = 1e7,\n",
    "                                   max_iter = 1000)"
   ]
  },
  {
   "cell_type": "code",
   "execution_count": null,
   "metadata": {},
   "outputs": [],
   "source": [
    "M.fit(ge_df[COLS], \n",
    "     np.sign(ge_df[\"RETURN\"]))"
   ]
  },
  {
   "cell_type": "code",
   "execution_count": null,
   "metadata": {},
   "outputs": [],
   "source": [
    "ge_df['PREDICTION'] = M.predict(ge_df[COLS])\n",
    "ge_df['STRATEGY'] = ge_df['PREDICTION'] * ge_df['RETURN']"
   ]
  },
  {
   "cell_type": "code",
   "execution_count": null,
   "metadata": {},
   "outputs": [],
   "source": [
    "# gross performance of lag 3\n",
    "ge_df[['RETURN', \"STRATEGY\"]].cumsum().apply(np.exp).plot(figsize = (16, 10))"
   ]
  },
  {
   "cell_type": "code",
   "execution_count": null,
   "metadata": {},
   "outputs": [],
   "source": [
    "# lag 30\n",
    "ge_df2 = pdr.get_data_yahoo(\"GE\", \n",
    "                           start = dt.datetime(2013, 11, 1), \n",
    "                           end = dt.datetime(2021, 10, 31))"
   ]
  },
  {
   "cell_type": "code",
   "execution_count": null,
   "metadata": {},
   "outputs": [],
   "source": [
    "ge_df2['RETURN'] = np.log(ge_df2['Close'] / ge_df2['Close'].shift(1))\n",
    "ge_df2.dropna(inplace = True)"
   ]
  },
  {
   "cell_type": "code",
   "execution_count": null,
   "metadata": {},
   "outputs": [],
   "source": [
    "lag = 30\n",
    "\n",
    "COLS = []\n",
    "\n",
    "for lag in range (1, lag + 1):\n",
    "    col = \"lag_{}\".format(lag)\n",
    "    ge_df2[col] = ge_df2['RETURN'].shift(lag)\n",
    "    COLS.append(col)\n",
    "    \n",
    "ge_df2.dropna(inplace = True)"
   ]
  },
  {
   "cell_type": "code",
   "execution_count": null,
   "metadata": {},
   "outputs": [],
   "source": [
    "M2 = linear_model.LogisticRegression(solver = 'lbfgs', \n",
    "                                    C = 1e7, \n",
    "                                    max_iter = 1000)"
   ]
  },
  {
   "cell_type": "code",
   "execution_count": null,
   "metadata": {},
   "outputs": [],
   "source": [
    "M2.fit(ge_df2[COLS], \n",
    "      np.sign(ge_df2['RETURN']))"
   ]
  },
  {
   "cell_type": "code",
   "execution_count": null,
   "metadata": {},
   "outputs": [],
   "source": [
    "ge_df2['PREDICTION'] = M2.predict(ge_df2[COLS])\n",
    "ge_df2['STRATEGY'] = ge_df2['PREDICTION'] * ge_df2['RETURN']"
   ]
  },
  {
   "cell_type": "code",
   "execution_count": null,
   "metadata": {},
   "outputs": [],
   "source": [
    "ge_df2[['RETURN', \"STRATEGY\"]].cumsum().apply(np.exp).plot(figsize = (16, 10))"
   ]
  },
  {
   "cell_type": "markdown",
   "metadata": {},
   "source": [
    "### <font color = red> Answer 8 </font>\n",
    "\n",
    "    The answer is ____________lag with 30 have better prediction________________ ."
   ]
  },
  {
   "cell_type": "markdown",
   "metadata": {},
   "source": [
    "###  <font color = blue> 👉 Question 9. </font> Now let's come up with performance metrics of accuracy."
   ]
  },
  {
   "cell_type": "markdown",
   "metadata": {},
   "source": [
    "### Below are the lines of code that lead to an answer:"
   ]
  },
  {
   "cell_type": "code",
   "execution_count": null,
   "metadata": {},
   "outputs": [],
   "source": [
    "accuracy = np.sign(GOLD[\"RETURN\"].iloc[lags:] * \n",
    "                   GOLD[\"PREDICTION\"].iloc[lags:]\n",
    "                  ).value_counts()\n",
    "\n",
    "accuracy"
   ]
  },
  {
   "cell_type": "code",
   "execution_count": null,
   "metadata": {},
   "outputs": [],
   "source": [
    "# lag 3\n",
    "lag = 3\n",
    "\n",
    "np.sign(ge_df['RETURN'].iloc[lag:] * \n",
    "       ge_df['PREDICTION'].iloc[lag:]).value_counts()"
   ]
  },
  {
   "cell_type": "code",
   "execution_count": null,
   "metadata": {},
   "outputs": [],
   "source": [
    "accuracy_score(ge_df['PREDICTION'], \n",
    "              np.sign(ge_df['RETURN']))"
   ]
  },
  {
   "cell_type": "code",
   "execution_count": null,
   "metadata": {},
   "outputs": [],
   "source": [
    "print(\"For prediction with lag is 3, the prediction is 1020 times correct and 956 wrong. The accuracy is {}\"\\\n",
    "     .format(round(accuracy_score(ge_df['PREDICTION'], \n",
    "                           np.sign(ge_df['RETURN'])), 4)))"
   ]
  },
  {
   "cell_type": "code",
   "execution_count": null,
   "metadata": {},
   "outputs": [],
   "source": [
    "# lag 30\n",
    "lag = 30\n",
    "np.sign(ge_df2['RETURN'].iloc[lag:] * \n",
    "       ge_df2['PREDICTION'].iloc[lag:]).value_counts()"
   ]
  },
  {
   "cell_type": "code",
   "execution_count": null,
   "metadata": {},
   "outputs": [],
   "source": [
    "accuracy_score(ge_df2['PREDICTION'], \n",
    "              np.sign(ge_df2['RETURN']))"
   ]
  },
  {
   "cell_type": "code",
   "execution_count": null,
   "metadata": {},
   "outputs": [],
   "source": [
    "print(\"For prediction with lag is 30, the prediction is 1047 times correct and 877 wrong. The accuracy is {}\"\\\n",
    "     .format(round(accuracy_score(ge_df2['PREDICTION'], \n",
    "                                 np.sign(ge_df2['RETURN'])), 5)))"
   ]
  },
  {
   "cell_type": "markdown",
   "metadata": {},
   "source": [
    "### <font color = red> Answer 9 </font>\n",
    "    Here, the prediction is _____ times correct and _____ wrong. The accuracy is ______ %."
   ]
  },
  {
   "cell_type": "markdown",
   "metadata": {},
   "source": [
    "###  <font color = blue> 👉 Question 10. </font> Please calculate the Sharpe Ratio of the strategies for  `GE`."
   ]
  },
  {
   "cell_type": "markdown",
   "metadata": {},
   "source": [
    "### Below are the lines of code that lead to an answer:"
   ]
  },
  {
   "cell_type": "code",
   "execution_count": null,
   "metadata": {},
   "outputs": [],
   "source": [
    "amazon_sharpe = np.sqrt(253) * (amazon_df['STRATEGY'].mean() / amazon_df['STRATEGY'].std())\n"
   ]
  },
  {
   "cell_type": "code",
   "execution_count": null,
   "metadata": {},
   "outputs": [],
   "source": [
    "# lag 3\n",
    "sharpe1 = np.sqrt(253) * (ge_df['STRATEGY'].mean() / ge_df['STRATEGY'].std())\n",
    "sharpe1"
   ]
  },
  {
   "cell_type": "code",
   "execution_count": null,
   "metadata": {},
   "outputs": [],
   "source": [
    "# lag 30\n",
    "sharpe2 = np.sqrt(253) * (ge_df2['STRATEGY'].mean() / ge_df2['STRATEGY'].std())\n",
    "sharpe2"
   ]
  },
  {
   "cell_type": "code",
   "execution_count": null,
   "metadata": {},
   "outputs": [],
   "source": [
    "print(\"Classification algorithm-based strategy with lag 3 for GE leads to a Sharpe ratio of {}\"\\\n",
    "      .format(round(sharpe1, 4)))"
   ]
  },
  {
   "cell_type": "code",
   "execution_count": null,
   "metadata": {},
   "outputs": [],
   "source": [
    "print(\"Classification algorithm-based strategy with lag 30 for GE leads to a Sharpe ratio of {}\"\\\n",
    "     .format(round(sharpe2, 4)))"
   ]
  },
  {
   "cell_type": "markdown",
   "metadata": {},
   "source": [
    "### <font color = red> Answer 10 </font>\n",
    "\n",
    "    Classification algorithm-based strategy for GE leads to a Sharpe ratio of __________ ."
   ]
  },
  {
   "cell_type": "markdown",
   "metadata": {},
   "source": [
    "> 💯 “Thank you for putting your efforts into the individual assessment questions” 😊"
   ]
  }
 ],
 "metadata": {
  "kernelspec": {
   "display_name": "Python 3 (ipykernel)",
   "language": "python",
   "name": "python3"
  },
  "language_info": {
   "codemirror_mode": {
    "name": "ipython",
    "version": 3
   },
   "file_extension": ".py",
   "mimetype": "text/x-python",
   "name": "python",
   "nbconvert_exporter": "python",
   "pygments_lexer": "ipython3",
   "version": "3.9.13"
  }
 },
 "nbformat": 4,
 "nbformat_minor": 1
}
